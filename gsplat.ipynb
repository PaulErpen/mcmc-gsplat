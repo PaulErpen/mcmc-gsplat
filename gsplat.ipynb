{
  "cells": [
    {
      "cell_type": "markdown",
      "metadata": {
        "id": "view-in-github",
        "colab_type": "text"
      },
      "source": [
        "<a href=\"https://colab.research.google.com/github/PaulErpen/mcmc-gsplat/blob/main/gsplat.ipynb\" target=\"_parent\"><img src=\"https://colab.research.google.com/assets/colab-badge.svg\" alt=\"Open In Colab\"/></a>"
      ]
    },
    {
      "cell_type": "markdown",
      "metadata": {
        "id": "Uodbm81d2Oy3"
      },
      "source": [
        "# GSplatting Test (L4 GPU)"
      ]
    },
    {
      "cell_type": "markdown",
      "metadata": {
        "id": "cNw8AmPz2UkI"
      },
      "source": [
        "## Basic Setup"
      ]
    },
    {
      "cell_type": "code",
      "execution_count": 122,
      "metadata": {
        "colab": {
          "base_uri": "https://localhost:8080/"
        },
        "id": "8evaGZD41Lf_",
        "outputId": "77c391ce-da71-4df9-ea47-d37144238f88"
      },
      "outputs": [
        {
          "output_type": "stream",
          "name": "stdout",
          "text": [
            "Drive already mounted at /content/drive; to attempt to forcibly remount, call drive.mount(\"/content/drive\", force_remount=True).\n"
          ]
        }
      ],
      "source": [
        "import os, sys\n",
        "from google.colab import drive\n",
        "drive.mount(\"/content/drive\")"
      ]
    },
    {
      "cell_type": "code",
      "execution_count": 123,
      "metadata": {
        "colab": {
          "base_uri": "https://localhost:8080/"
        },
        "id": "XaSi0J-b1WhK",
        "outputId": "556f8c6c-7991-4a7c-8e07-da91979fc933"
      },
      "outputs": [
        {
          "output_type": "stream",
          "name": "stdout",
          "text": [
            "/content/drive/MyDrive/TUWien/MasterThesisNeRF/gsplat\n"
          ]
        }
      ],
      "source": [
        "%cd \"/content/drive/MyDrive/TUWien/MasterThesisNeRF/gsplat\""
      ]
    },
    {
      "cell_type": "markdown",
      "metadata": {
        "id": "j6uos1JG2Yw9"
      },
      "source": [
        "## Libraries\n",
        "\n",
        "Only execute once!"
      ]
    },
    {
      "cell_type": "code",
      "execution_count": 124,
      "metadata": {
        "id": "u-mCKoX0AO_p"
      },
      "outputs": [],
      "source": [
        "# !pip install --target=\"./lib\" https://github.com/nerfstudio-project/gsplat/releases/download/v1.4.0/gsplat-1.4.0+pt24cu121-cp310-cp310-linux_x86_64.whl"
      ]
    },
    {
      "cell_type": "code",
      "source": [
        "# !pip install --target=\"./lib\" plyfile"
      ],
      "metadata": {
        "id": "H71cEpc0n5vW"
      },
      "execution_count": 125,
      "outputs": []
    },
    {
      "cell_type": "code",
      "source": [
        "# # Link is dead for actual simple-knn repo so i am using my alternative fork :P\n",
        "# !git clone https://github.com/PaulErpen/mini-splatting-capped.git\n",
        "# %cd \"/content/drive/MyDrive/TUWien/MasterThesisNeRF/gsplat/mini-splatting-capped/submodules/simple-knn\"\n",
        "# !pip install --target=\"../../../lib\" .\n",
        "# %cd \"/content/drive/MyDrive/TUWien/MasterThesisNeRF/gsplat\""
      ],
      "metadata": {
        "id": "EOHFUluhDKbE"
      },
      "execution_count": 126,
      "outputs": []
    },
    {
      "cell_type": "markdown",
      "metadata": {
        "id": "vhEuT_4n38Wg"
      },
      "source": [
        "## Library Import"
      ]
    },
    {
      "cell_type": "code",
      "execution_count": 127,
      "metadata": {
        "id": "-9fMBMaC3_jZ"
      },
      "outputs": [],
      "source": [
        "# add lib to path\n",
        "import sys\n",
        "\n",
        "sys.path.append(\"/content/drive/MyDrive/TUWien/MasterThesisNeRF/gsplat/lib\")"
      ]
    },
    {
      "cell_type": "markdown",
      "metadata": {
        "id": "ETECv-G-KY7p"
      },
      "source": [
        "## Dataset loading"
      ]
    },
    {
      "cell_type": "markdown",
      "source": [
        "### Initial points loading"
      ],
      "metadata": {
        "id": "5uciZLpU6TKc"
      }
    },
    {
      "cell_type": "code",
      "source": [
        "from typing import NamedTuple\n",
        "from plyfile import PlyElement, PlyData\n",
        "import numpy as np\n",
        "\n",
        "class BasicPointCloud(NamedTuple):\n",
        "  points : np.array\n",
        "  colors : np.array\n",
        "  normals : np.array"
      ],
      "metadata": {
        "id": "e5sSk5_l6VTf"
      },
      "execution_count": 128,
      "outputs": []
    },
    {
      "cell_type": "code",
      "source": [
        "def storePly(path, xyz, rgb):\n",
        "  # Define the dtype for the structured array\n",
        "  dtype = [('x', 'f4'), ('y', 'f4'), ('z', 'f4'),\n",
        "          ('nx', 'f4'), ('ny', 'f4'), ('nz', 'f4'),\n",
        "          ('red', 'u1'), ('green', 'u1'), ('blue', 'u1')]\n",
        "\n",
        "  normals = np.zeros_like(xyz)\n",
        "\n",
        "  elements = np.empty(xyz.shape[0], dtype=dtype)\n",
        "  attributes = np.concatenate((xyz, normals, rgb), axis=1)\n",
        "  elements[:] = list(map(tuple, attributes))\n",
        "\n",
        "  # Create the PlyData object and write to file\n",
        "  vertex_element = PlyElement.describe(elements, 'vertex')\n",
        "  ply_data = PlyData([vertex_element])\n",
        "  ply_data.write(path)"
      ],
      "metadata": {
        "id": "V-mgODNQ7RHl"
      },
      "execution_count": 129,
      "outputs": []
    },
    {
      "cell_type": "code",
      "source": [
        "def fetchPly(path):\n",
        "  plydata = PlyData.read(path)\n",
        "  vertices = plydata['vertex']\n",
        "  positions = np.vstack([vertices['x'], vertices['y'], vertices['z']]).T\n",
        "  colors = np.vstack([vertices['red'], vertices['green'], vertices['blue']]).T / 255.0\n",
        "  normals = np.vstack([vertices['nx'], vertices['ny'], vertices['nz']]).T\n",
        "  return BasicPointCloud(points=positions, colors=colors, normals=normals)"
      ],
      "metadata": {
        "id": "TS21Kila7R5G"
      },
      "execution_count": 130,
      "outputs": []
    },
    {
      "cell_type": "code",
      "source": [
        "\n",
        "import numpy as np\n",
        "C0 = 0.28209479177387814\n",
        "\n",
        "def SH2RGB(sh):\n",
        "    return sh * C0 + 0.5\n",
        "\n",
        "def load_initial_points(dataset_path: str, num_points: int) -> BasicPointCloud:\n",
        "  ply_path = os.path.join(dataset_path, \"points3d.ply\")\n",
        "\n",
        "  if not os.path.exists(ply_path):\n",
        "    print(f\"Generating random point cloud ({num_points})...\")\n",
        "\n",
        "    # We create random points inside the bounds of the synthetic Blender scenes\n",
        "    xyz = np.random.random((num_points, 3)) * 2.6 - 1.3\n",
        "    shs = np.random.random((num_points, 3)) / 255.0\n",
        "    pcd = BasicPointCloud(points=xyz, colors=SH2RGB(shs), normals=np.zeros((num_points, 3)))\n",
        "\n",
        "    storePly(ply_path, xyz, SH2RGB(shs) * 255)\n",
        "  else:\n",
        "    pcd = fetchPly(ply_path)\n",
        "\n",
        "    if pcd.points.shape[0] > num_points:\n",
        "      print(f\"Subsampling point cloud ({num_points})...\")\n",
        "      np.random.seed(123)\n",
        "      chosen_points = np.random.choice(pcd.points.shape[0], num_points, replace=False)\n",
        "      pcd = BasicPointCloud(pcd.points[chosen_points], pcd.colors[chosen_points], pcd.normals[chosen_points])\n",
        "\n",
        "  return pcd"
      ],
      "metadata": {
        "id": "-Mf26Cte6tTo"
      },
      "execution_count": 131,
      "outputs": []
    },
    {
      "cell_type": "markdown",
      "source": [
        "### Helper Methods"
      ],
      "metadata": {
        "id": "iMrdjqh6XqkN"
      }
    },
    {
      "cell_type": "code",
      "execution_count": 132,
      "metadata": {
        "id": "gNbwN1BiKwwh"
      },
      "outputs": [],
      "source": [
        "from pathlib import Path\n",
        "from PIL import Image\n",
        "from typing import Tuple\n",
        "import torch\n",
        "\n",
        "def image_path_to_tensors(image_path: Path) -> Tuple[torch.Tensor, torch.Tensor]:\n",
        "    import torchvision.transforms as transforms\n",
        "\n",
        "    img = Image.open(image_path)\n",
        "    transform = transforms.ToTensor()\n",
        "    img_tensor = transform(img).permute(1, 2, 0)[..., :3]\n",
        "    alpha_tensor = transform(img).permute(1, 2, 0)[..., 3:]\n",
        "    return img_tensor, alpha_tensor"
      ]
    },
    {
      "cell_type": "code",
      "execution_count": 133,
      "metadata": {
        "id": "-Q7-aufJLaKc"
      },
      "outputs": [],
      "source": [
        "def compute_intrinsics_matrix(focal_length, width, height):\n",
        "    return torch.tensor(\n",
        "        [\n",
        "            [focal_length, 0, width / 2],\n",
        "            [0, focal_length, height / 2],\n",
        "            [0, 0, 1],\n",
        "        ]\n",
        "    )"
      ]
    },
    {
      "cell_type": "code",
      "execution_count": 134,
      "metadata": {
        "id": "7iiBZ34O0Phu"
      },
      "outputs": [],
      "source": [
        "import numpy as np\n",
        "\n",
        "def transform_matrix_to_w2c(transform_matrix):\n",
        "    c2w = transform_matrix\n",
        "    c2w[:3, 1:3] *= -1 # change axis convention from Blender to colmap\n",
        "    return np.linalg.inv(c2w)"
      ]
    },
    {
      "cell_type": "code",
      "source": [
        "from typing import NamedTuple\n",
        "from torch.linalg import vector_norm\n",
        "\n",
        "class NerfNorm(NamedTuple):\n",
        "  translation: torch.tensor\n",
        "  radius: float\n",
        "\n",
        "def getNerfppNorm(w2c):\n",
        "    def get_center_and_diag(cam_centers):\n",
        "        cam_centers = np.hstack(cam_centers)\n",
        "        avg_cam_center = np.mean(cam_centers, axis=1, keepdims=True)\n",
        "        center = avg_cam_center\n",
        "        dist = np.linalg.norm(cam_centers - center, axis=0, keepdims=True)\n",
        "        diagonal = np.max(dist)\n",
        "        return center.flatten(), diagonal\n",
        "\n",
        "    cam_centers = []\n",
        "\n",
        "    for i in range(w2c.shape[0]):\n",
        "        C2W = np.linalg.inv(w2c[i])\n",
        "        cam_centers.append(C2W[:3, 3:4])\n",
        "\n",
        "    center, diagonal = get_center_and_diag(cam_centers)\n",
        "    radius = diagonal * 1.1\n",
        "\n",
        "    translate = -center\n",
        "\n",
        "    return NerfNorm(translate, diagonal)\n",
        "\n",
        "# def getNerfppNorm(w2c) -> NerfNorm:\n",
        "#     c2w = torch.inverse(w2c)\n",
        "#     translation = c2w[:, :3, 3]\n",
        "#     b = c2w.shape[0]\n",
        "#\n",
        "#     assert translation.shape == (b, 3), translation.shape\n",
        "#\n",
        "#     center = torch.mean(translation, 0)\n",
        "#\n",
        "#     assert center.shape == (3,), center.shape\n",
        "#\n",
        "#     centered = translation - center\n",
        "#     assert centered.shape == (b, 3), centered.shape\n",
        "#     distance = vector_norm(centered, dim=0, keepdim=True)\n",
        "#     assert distance.shape == (1, 3), distance.shape\n",
        "#     diagonal = torch.max(distance).float()\n",
        "#\n",
        "#     translate = -center\n",
        "#\n",
        "#     return NerfNorm(translate, diagonal * 1.1)"
      ],
      "metadata": {
        "id": "mDUhN8OvXcwZ"
      },
      "execution_count": 135,
      "outputs": []
    },
    {
      "cell_type": "code",
      "source": [
        "w2c = torch.eye(4).repeat(10000, 1, 1)\n",
        "w2c[:, :3, 3] = (torch.rand_like(w2c[:, :3, 3]) - 0.5) * 3\n",
        "\n",
        "norm = getNerfppNorm(w2c)\n",
        "\n",
        "assert norm.translation.shape == (3,)\n",
        "assert norm.radius > 0"
      ],
      "metadata": {
        "id": "b9Us2EI5lBia"
      },
      "execution_count": 136,
      "outputs": []
    },
    {
      "cell_type": "code",
      "source": [
        "vector_norm(torch.tensor([[0.5, 0.5, 0.5]]) * 3, dim=1)* 1.1"
      ],
      "metadata": {
        "colab": {
          "base_uri": "https://localhost:8080/"
        },
        "id": "MemNtnZ2v9nP",
        "outputId": "e9f43e74-196b-4bed-dee8-4bd0177c6bde"
      },
      "execution_count": 137,
      "outputs": [
        {
          "output_type": "execute_result",
          "data": {
            "text/plain": [
              "tensor([2.8579])"
            ]
          },
          "metadata": {},
          "execution_count": 137
        }
      ]
    },
    {
      "cell_type": "code",
      "source": [
        "norm"
      ],
      "metadata": {
        "colab": {
          "base_uri": "https://localhost:8080/"
        },
        "id": "3QzYc-oroVhE",
        "outputId": "d783f3ad-7afa-4cda-bfb5-18bfd2f6574c"
      },
      "execution_count": 138,
      "outputs": [
        {
          "output_type": "execute_result",
          "data": {
            "text/plain": [
              "NerfNorm(translation=array([0.01070679, 0.00249602, 0.01505928], dtype=float32), radius=2.5596955)"
            ]
          },
          "metadata": {},
          "execution_count": 138
        }
      ]
    },
    {
      "cell_type": "code",
      "source": [
        "torch.rand_like(w2c[:, :3, 3])"
      ],
      "metadata": {
        "colab": {
          "base_uri": "https://localhost:8080/"
        },
        "id": "VDEVHcF7olOu",
        "outputId": "3f76f280-cb74-4adc-acb6-6a05ba06e3b9"
      },
      "execution_count": 139,
      "outputs": [
        {
          "output_type": "execute_result",
          "data": {
            "text/plain": [
              "tensor([[0.2647, 0.1445, 0.9430],\n",
              "        [0.8024, 0.9694, 0.7334],\n",
              "        [0.8401, 0.3797, 0.1474],\n",
              "        ...,\n",
              "        [0.3281, 0.5345, 0.9739],\n",
              "        [0.1323, 0.4179, 0.5714],\n",
              "        [0.4701, 0.9427, 0.1987]])"
            ]
          },
          "metadata": {},
          "execution_count": 139
        }
      ]
    },
    {
      "cell_type": "markdown",
      "source": [
        "### Blender Dataset"
      ],
      "metadata": {
        "id": "BRAz5OWQXjYs"
      }
    },
    {
      "cell_type": "code",
      "execution_count": 140,
      "metadata": {
        "id": "3lzDn7_2KcrF"
      },
      "outputs": [],
      "source": [
        "from typing import Callable, Literal, Tuple\n",
        "import torch.utils.data\n",
        "import json\n",
        "from pathlib import Path\n",
        "import numpy as np\n",
        "import PIL.Image\n",
        "\n",
        "\n",
        "class BlenderSyntheticDataset(torch.utils.data.Dataset):\n",
        "    def __init__(\n",
        "        self,\n",
        "        data_root: str,\n",
        "        split: Literal[\"train\", \"val\", \"test\"],\n",
        "        max_num_init_points: int,\n",
        "        limit: int | None = None,\n",
        "    ):\n",
        "        self.meta = {}\n",
        "        self.split = split\n",
        "        self.data_root = Path(data_root)\n",
        "        self.image_size = (800, 800)\n",
        "        self.bg_color = torch.Tensor([1.0, 1.0, 1.0])\n",
        "\n",
        "        meta_path = Path(data_root) / Path(\"transforms_{}.json\".format(self.split))\n",
        "\n",
        "        if not self.data_root.exists() or not meta_path.exists():\n",
        "            raise FileNotFoundError(\n",
        "                \"The specified split file does not exist: {}\".format(self.data_root)\n",
        "            )\n",
        "\n",
        "        with open(meta_path, \"r\") as fp:\n",
        "            self.meta = json.load(fp)\n",
        "\n",
        "        tmp_img = []\n",
        "        tmp_alpha = []\n",
        "        poses = []\n",
        "        for idx, frame in enumerate(self.meta[\"frames\"]):\n",
        "            if limit is not None and idx >= limit:\n",
        "                break\n",
        "\n",
        "            img_path = self.data_root / Path(frame[\"file_path\"] + \".png\")\n",
        "            # Load the image\n",
        "            img, alpha = image_path_to_tensors(img_path)\n",
        "            tmp_img.append(img)\n",
        "            tmp_alpha.append(alpha)\n",
        "            poses.append(transform_matrix_to_w2c(np.array(frame[\"transform_matrix\"])))\n",
        "        poses = np.array(poses).astype(np.float32)\n",
        "        self.poses = torch.from_numpy(poses)\n",
        "        self.images = torch.stack(tmp_img, dim=0)\n",
        "        self.alphas = torch.stack(tmp_alpha, dim=0)\n",
        "        self.camera_angle_x = float(self.meta[\"camera_angle_x\"])\n",
        "\n",
        "        self.focal_length = (\n",
        "            0.5 * 800 / np.tan(0.5 * self.camera_angle_x)\n",
        "        )\n",
        "        self.intrinsics = compute_intrinsics_matrix(\n",
        "            self.focal_length, self.image_size[0], self.image_size[1]\n",
        "        )\n",
        "\n",
        "        self.pcd = load_initial_points(self.data_root, max_num_init_points)\n",
        "\n",
        "        self.norm = getNerfppNorm(self.poses)\n",
        "\n",
        "    def __len__(self):\n",
        "        return self.poses.shape[0]\n",
        "\n",
        "    def __getitem__(self, idx) -> Tuple[torch.Tensor, torch.Tensor]:\n",
        "        return self.poses[idx], self.images[idx], self.alphas[idx]\n"
      ]
    },
    {
      "cell_type": "markdown",
      "source": [
        "### Blender Dataset - Tests"
      ],
      "metadata": {
        "id": "_jstcj5AJRoL"
      }
    },
    {
      "cell_type": "code",
      "execution_count": 141,
      "metadata": {
        "id": "HAcP5YIoiP_1",
        "colab": {
          "base_uri": "https://localhost:8080/"
        },
        "outputId": "f5fa2a8f-c0cf-477d-c02b-de1496b219e9"
      },
      "outputs": [
        {
          "output_type": "stream",
          "name": "stdout",
          "text": [
            "Subsampling point cloud (100)...\n"
          ]
        }
      ],
      "source": [
        "# Test: Given a valid dataset path, when retrieving the first observation, the image must have the correct shape\n",
        "\n",
        "dataset = BlenderSyntheticDataset(data_root=\"../nerf-synthetic/lego\", split=\"train\", max_num_init_points=100, limit=1)\n",
        "\n",
        "assert dataset[0][1].shape == (800, 800, 3), dataset[0][1].shape"
      ]
    },
    {
      "cell_type": "code",
      "source": [
        "assert dataset[0][2].shape == (800, 800, 1), dataset[0][1].shape"
      ],
      "metadata": {
        "id": "Ll0nRsYNEv_q"
      },
      "execution_count": 142,
      "outputs": []
    },
    {
      "cell_type": "code",
      "execution_count": 143,
      "metadata": {
        "id": "SdVPSa5ot3eQ"
      },
      "outputs": [],
      "source": [
        "assert dataset[0][0].shape == (4, 4), dataset[0][0].shape"
      ]
    },
    {
      "cell_type": "code",
      "source": [
        "assert dataset.intrinsics.shape == (3, 3), dataset.intrinsics.shape"
      ],
      "metadata": {
        "id": "yyVLoIU7AaG1"
      },
      "execution_count": 144,
      "outputs": []
    },
    {
      "cell_type": "code",
      "source": [
        "# Test: Given a dataset that subsamples the initial point cloud, then the point cloud should only contain the number of specified points\n",
        "\n",
        "assert dataset.pcd.points.shape[0] == 100, dataset.pcd.points.shape[0]\n",
        "assert dataset.pcd.colors.shape[0] == 100, dataset.pcd.colors.shape[0]\n",
        "assert dataset.pcd.normals.shape[0] == 100, dataset.pcd.normals.shape[0]"
      ],
      "metadata": {
        "id": "rS_dq1s5-Aho"
      },
      "execution_count": 145,
      "outputs": []
    },
    {
      "cell_type": "code",
      "source": [
        "from numpy.testing import assert_almost_equal\n",
        "\n",
        "dataset = BlenderSyntheticDataset(data_root=\"../nerf-synthetic/lego\", split=\"train\", max_num_init_points=100)\n",
        "\n",
        "assert_almost_equal(dataset.norm.radius, 4.789909410476685, decimal=1, err_msg=f\"Dataset norm radius ({dataset.norm.radius}) deviates too much from {4.789909410476685}\")"
      ],
      "metadata": {
        "colab": {
          "base_uri": "https://localhost:8080/"
        },
        "id": "9OwehRr6a2-q",
        "outputId": "261f4263-8098-4fbe-926a-1a3642dff9a9"
      },
      "execution_count": 146,
      "outputs": [
        {
          "output_type": "stream",
          "name": "stdout",
          "text": [
            "Subsampling point cloud (100)...\n"
          ]
        }
      ]
    },
    {
      "cell_type": "markdown",
      "metadata": {
        "id": "A7ZOUI_k2tg-"
      },
      "source": [
        "## Gaussian Model"
      ]
    },
    {
      "cell_type": "code",
      "source": [
        "import torch\n",
        "\n",
        "def rgb_to_sh(rgb: torch.Tensor) -> torch.Tensor:\n",
        "    C0 = 0.28209479177387814\n",
        "    return (rgb - 0.5) / C0"
      ],
      "metadata": {
        "id": "eGgreXO8qGrN"
      },
      "execution_count": 147,
      "outputs": []
    },
    {
      "cell_type": "code",
      "source": [
        "def inverse_sigmoid(x):\n",
        "    return torch.log(x/(1-x))"
      ],
      "metadata": {
        "id": "w9QWlLP0KUgW"
      },
      "execution_count": 148,
      "outputs": []
    },
    {
      "cell_type": "code",
      "source": [
        "import torch.nn\n",
        "\n",
        "class GaussianParamsModel:\n",
        "  def get_params(self):\n",
        "    raise NotImplementedError()\n",
        "\n",
        "  def set_params(self, params: torch.nn.ParameterDict):\n",
        "    raise NotImplementedError()"
      ],
      "metadata": {
        "id": "KHRjn4eW1SUt"
      },
      "execution_count": 149,
      "outputs": []
    },
    {
      "cell_type": "code",
      "source": [
        "import torch\n",
        "from torch import nn\n",
        "import math\n",
        "from gsplat import rasterization\n",
        "from torch import optim\n",
        "from typing import Dict\n",
        "from simple_knn._C import distCUDA2\n",
        "\n",
        "class GaussianModel(nn.Module, GaussianParamsModel):\n",
        "  def __init__(self,\n",
        "               params: nn.ParameterDict,\n",
        "               scene_scale: float,\n",
        "               sh_degree: int = 3):\n",
        "    super(GaussianModel, self).__init__()\n",
        "\n",
        "    self.sh_degree = sh_degree\n",
        "    self.scene_scale = scene_scale\n",
        "    self.params = params\n",
        "\n",
        "  @classmethod\n",
        "  def from_point_cloud(cls, pcd: BasicPointCloud, scene_scale: float, sh_degree: int = 3):\n",
        "    points = torch.tensor(np.asarray(pcd.points)).float()\n",
        "    num_points = points.shape[0]\n",
        "\n",
        "    # color is SH coefficients.\n",
        "    colors = torch.zeros((num_points, (sh_degree + 1) ** 2, 3))  # [N, K, 3]\n",
        "    colors[:, 0, :] = rgb_to_sh(torch.tensor(np.asarray(pcd.colors)).float())\n",
        "\n",
        "    dist2 = torch.clamp_min(distCUDA2(torch.from_numpy(np.asarray(pcd.points)).float().cuda()), 0.0000001)\n",
        "    scales = torch.log(torch.sqrt(dist2))[...,None].repeat(1, 3)\n",
        "\n",
        "    opacities = inverse_sigmoid(0.1 * torch.ones((num_points), dtype=torch.float, device=\"cuda\"))\n",
        "\n",
        "    params = nn.ParameterDict({\n",
        "        \"means\": nn.Parameter(\n",
        "          points.to(torch.float32)\n",
        "        ),\n",
        "        \"scales\": nn.Parameter(\n",
        "          scales.to(torch.float32)\n",
        "        ),\n",
        "        \"quats\": nn.Parameter(\n",
        "          torch.rand((num_points, 4)).to(torch.float32)\n",
        "        ),\n",
        "        \"opacities\": opacities,\n",
        "        \"sh0\": torch.nn.Parameter(colors[:, :1, :]),\n",
        "        \"shN\": torch.nn.Parameter(colors[:, 1:, :])\n",
        "    })\n",
        "\n",
        "    return cls(params, scene_scale, sh_degree)\n",
        "\n",
        "  def get_params(self):\n",
        "    return self.params\n",
        "\n",
        "  def set_params(self, params: torch.nn.ParameterDict):\n",
        "    self.params = params\n",
        "\n",
        "  def forward(self,\n",
        "              view_matrix: torch.Tensor,\n",
        "              K: torch.Tensor,\n",
        "              W: int,\n",
        "              H: int,\n",
        "              sh_degree_to_use: int,\n",
        "              bg_color: torch.Tensor | None):\n",
        "    colors = torch.cat([self.params[\"sh0\"], self.params[\"shN\"]], 1)\n",
        "\n",
        "    renders, alphas, info = rasterization(\n",
        "      means=self.params[\"means\"],\n",
        "      quats=self.params[\"quats\"],\n",
        "      scales=torch.exp(self.params[\"scales\"]),\n",
        "      opacities=torch.sigmoid(self.params[\"opacities\"]),\n",
        "      colors=colors,\n",
        "      viewmats=view_matrix,\n",
        "      Ks=K,\n",
        "      width=W,\n",
        "      height=H,\n",
        "      packed=False,\n",
        "      sh_degree=sh_degree_to_use,\n",
        "      backgrounds=bg_color\n",
        "    )\n",
        "    return renders, alphas, info"
      ],
      "metadata": {
        "id": "2IAN0MdglsIO"
      },
      "execution_count": 150,
      "outputs": []
    },
    {
      "cell_type": "markdown",
      "source": [
        "### Gaussian Model - Tests"
      ],
      "metadata": {
        "id": "vDKcvXtnva50"
      }
    },
    {
      "cell_type": "code",
      "source": [
        "# Test: Given a valid gaussian model, when forwarding with camera parameters, then return an image batch of the correct dimensions\n",
        "\n",
        "example_dataset = BlenderSyntheticDataset(data_root=\"../nerf-synthetic/lego\", split=\"train\", max_num_init_points=2000, limit=1)\n",
        "gaussian_model  = GaussianModel.from_point_cloud(example_dataset.pcd, example_dataset.norm.radius).to(\"cuda\")\n",
        "\n",
        "assert gaussian_model(\n",
        "  torch.eye(4).unsqueeze(0).to(\"cuda\"),\n",
        "  torch.eye(3).unsqueeze(0).to(\"cuda\"),\n",
        "  800,\n",
        "  800,\n",
        "  3,\n",
        "  torch.ones(1, 3).to(\"cuda\")\n",
        ")[0].shape == (1, 800, 800, 3)"
      ],
      "metadata": {
        "id": "tVj-aviIvDRB",
        "colab": {
          "base_uri": "https://localhost:8080/"
        },
        "outputId": "ad024f75-5661-4079-867f-85634fecc60c"
      },
      "execution_count": 151,
      "outputs": [
        {
          "output_type": "stream",
          "name": "stdout",
          "text": [
            "Subsampling point cloud (2000)...\n"
          ]
        }
      ]
    },
    {
      "cell_type": "code",
      "source": [
        "gaussian_model(\n",
        "  torch.eye(4).unsqueeze(0).to(\"cuda\"),\n",
        "  torch.eye(3).unsqueeze(0).to(\"cuda\"),\n",
        "  800,\n",
        "  800,\n",
        "  3,\n",
        "  torch.ones(1, 3).to(\"cuda\")\n",
        ")[2].keys()"
      ],
      "metadata": {
        "colab": {
          "base_uri": "https://localhost:8080/"
        },
        "id": "Ho1DepeEsZ-J",
        "outputId": "446e146b-bfd1-455e-90b5-5e4050b74bd0"
      },
      "execution_count": 152,
      "outputs": [
        {
          "output_type": "execute_result",
          "data": {
            "text/plain": [
              "dict_keys(['camera_ids', 'gaussian_ids', 'radii', 'means2d', 'depths', 'conics', 'opacities', 'tile_width', 'tile_height', 'tiles_per_gauss', 'isect_ids', 'flatten_ids', 'isect_offsets', 'width', 'height', 'tile_size', 'n_cameras'])"
            ]
          },
          "metadata": {},
          "execution_count": 152
        }
      ]
    },
    {
      "cell_type": "code",
      "source": [
        "gaussian_model(\n",
        "  torch.eye(4).unsqueeze(0).to(\"cuda\"),\n",
        "  torch.eye(3).unsqueeze(0).to(\"cuda\"),\n",
        "  800,\n",
        "  800,\n",
        "  3,\n",
        "  torch.ones(1, 3).to(\"cuda\")\n",
        ")[2][\"isect_ids\"]"
      ],
      "metadata": {
        "colab": {
          "base_uri": "https://localhost:8080/"
        },
        "id": "FWPYosOEt5oQ",
        "outputId": "f2617527-802e-484b-e851-fd16047c5402"
      },
      "execution_count": 153,
      "outputs": [
        {
          "output_type": "execute_result",
          "data": {
            "text/plain": [
              "tensor([    1009870466,     1012387227,     1012737766,  ...,\n",
              "        10734142899248, 10734143237084, 10734147164268], device='cuda:0')"
            ]
          },
          "metadata": {},
          "execution_count": 153
        }
      ]
    },
    {
      "cell_type": "code",
      "source": [
        "assert gaussian_model.params[\"quats\"].shape == (2000, 4), gaussian_model.params[\"quats\"].shape"
      ],
      "metadata": {
        "id": "SlecPEgVn7am"
      },
      "execution_count": 154,
      "outputs": []
    },
    {
      "cell_type": "markdown",
      "source": [
        "## Optimizer Factory"
      ],
      "metadata": {
        "id": "tC5yCFbXIj7E"
      }
    },
    {
      "cell_type": "code",
      "source": [
        "from typing import Dict, Union\n",
        "\n",
        "class OptimizerFactory:\n",
        "  @staticmethod\n",
        "  def create_optimizers(model: GaussianModel, lr_by_name: Union[None, Dict[str, float]] = None) -> Dict:\n",
        "    if lr_by_name is None:\n",
        "      lr_by_name = OptimizerFactory.get_default_learning_rates(model.scene_scale)\n",
        "\n",
        "    optimizers = {}\n",
        "\n",
        "    for name, parameters in model.params.items():\n",
        "      lr = lr_by_name[name]\n",
        "\n",
        "      if lr is None:\n",
        "        raise ValueError(f\"No learning rate for {name}\")\n",
        "\n",
        "      optimizers[name] = optim.Adam(\n",
        "          [{\"params\": parameters, \"lr\": lr, \"name\": name}]\n",
        "      )\n",
        "\n",
        "    return optimizers\n",
        "\n",
        "  @staticmethod\n",
        "  def get_default_learning_rates(spatial_lr_scale: float) -> Dict[str, float]:\n",
        "    return {\n",
        "      \"means\": 1.6e-4 * spatial_lr_scale,\n",
        "      \"scales\": 5e-3,\n",
        "      \"quats\": 1e-3,\n",
        "      \"opacities\": 5e-2,\n",
        "      \"sh0\": 2.5e-3,\n",
        "      \"shN\": 2.5e-3 / 20\n",
        "    }"
      ],
      "metadata": {
        "id": "v2XdcoxfImnf"
      },
      "execution_count": 155,
      "outputs": []
    },
    {
      "cell_type": "code",
      "source": [
        "# Test: given a gaussian model, when creating the optimizers, then return a dict with the correct amount of keys\n",
        "\n",
        "dataset = BlenderSyntheticDataset(data_root=\"../nerf-synthetic/lego\", split=\"train\", max_num_init_points=2000, limit=1)\n",
        "gaussian_model  = GaussianModel.from_point_cloud(dataset.pcd, dataset.norm.radius)\n",
        "\n",
        "optimizers = OptimizerFactory.create_optimizers(gaussian_model)\n",
        "\n",
        "assert len(optimizers) == len(gaussian_model.params)"
      ],
      "metadata": {
        "id": "lZ5u2HkSJ41a",
        "colab": {
          "base_uri": "https://localhost:8080/"
        },
        "outputId": "65de6ef7-0dc1-4210-8d65-9f31469ad98e"
      },
      "execution_count": 156,
      "outputs": [
        {
          "output_type": "stream",
          "name": "stdout",
          "text": [
            "Subsampling point cloud (2000)...\n"
          ]
        }
      ]
    },
    {
      "cell_type": "markdown",
      "source": [
        "## Scheduler Factory"
      ],
      "metadata": {
        "id": "6LAocY7ZPOY8"
      }
    },
    {
      "cell_type": "code",
      "source": [
        "from typing import Dict, List\n",
        "\n",
        "class SchedulerFactory:\n",
        "  @staticmethod\n",
        "  def create_schedulers(optimizers: Dict, config: \"Config\") -> List:\n",
        "    schedulers = [\n",
        "        torch.optim.lr_scheduler.ExponentialLR(\n",
        "          optimizers[\"means\"], gamma=0.01 ** (1.0 / config.max_steps)\n",
        "        )\n",
        "    ]\n",
        "    return schedulers"
      ],
      "metadata": {
        "id": "dfo9oOzHPYRo"
      },
      "execution_count": 157,
      "outputs": []
    },
    {
      "cell_type": "markdown",
      "source": [
        "## Holdoutview-Handler"
      ],
      "metadata": {
        "id": "nYp8ID8pvlhE"
      }
    },
    {
      "cell_type": "code",
      "source": [
        "class HoldoutViewHandler:\n",
        "    def __init__(self,\n",
        "                 holdout_view_matrix: torch.Tensor,\n",
        "                 K: torch.Tensor,\n",
        "                 W: int,\n",
        "                 H: int,\n",
        "                 out_dir: str,\n",
        "                 bg_color: torch.Tensor | None,\n",
        "                 device=\"cuda\"):\n",
        "        self.holdout_view_matrix = holdout_view_matrix.to(torch.float32)\n",
        "        self.K = K.to(torch.float32)\n",
        "        self.W = W\n",
        "        self.H = H\n",
        "        self.frames = []\n",
        "        self.bg_color = bg_color\n",
        "        self.device = device\n",
        "        self.out_dir = out_dir\n",
        "\n",
        "    def to(self, device):\n",
        "        self.device = device\n",
        "        self.holdout_view_matrix = self.holdout_view_matrix.to(device)\n",
        "        self.K = self.K.to(device)\n",
        "        return self\n",
        "\n",
        "    def compute_holdout_view(self, model: nn.Module, sh_degrees_to_use: int):\n",
        "        renders, _, _ = model(\n",
        "            view_matrix=self.holdout_view_matrix.unsqueeze(0).to(self.device),\n",
        "            K=self.K.unsqueeze(0).to(self.device),\n",
        "            W=self.W,\n",
        "            H=self.H,\n",
        "            sh_degree_to_use=sh_degrees_to_use,\n",
        "            bg_color=self.bg_color.unsqueeze(0).to(self.device),\n",
        "        )\n",
        "        out_img = renders[0]\n",
        "        out_img = torch.clamp(out_img, 0.0, 1.0)\n",
        "        self.frames.append((out_img.detach().cpu().numpy() * 255).astype(np.uint8))\n",
        "\n",
        "    def export_gif(self):\n",
        "      frames = [Image.fromarray(frame) for frame in self.frames]\n",
        "      export_dir = os.path.join(os.getcwd(), self.out_dir)\n",
        "      os.makedirs(self.out_dir, exist_ok=True)\n",
        "      frames[0].save(\n",
        "          f\"{export_dir}/training.gif\",\n",
        "          save_all=True,\n",
        "          append_images=frames[1:],\n",
        "          optimize=False,\n",
        "          duration=5,\n",
        "          loop=0,\n",
        "        )"
      ],
      "metadata": {
        "id": "oHnrJTGyve1E"
      },
      "execution_count": 158,
      "outputs": []
    },
    {
      "cell_type": "markdown",
      "source": [
        "### Holdoutview-Handler - Tests"
      ],
      "metadata": {
        "id": "UEUt3MwgwO41"
      }
    },
    {
      "cell_type": "code",
      "source": [
        "# Test: Given a valid holdout view handler, when computing a set of views and exporting, then the gif must exist\n",
        "\n",
        "import os\n",
        "import shutil\n",
        "\n",
        "shutil.rmtree(\"unittests/test-renders\", ignore_errors=True)\n",
        "\n",
        "os.makedirs(\"unittests/test-renders\", exist_ok=True)\n",
        "\n",
        "class MockedModel(nn.Module):\n",
        "  def __init__(self):\n",
        "    super(MockedModel, self).__init__()\n",
        "\n",
        "  def forward(self,\n",
        "              view_matrix: torch.Tensor,\n",
        "              K: torch.Tensor,\n",
        "              W: int,\n",
        "              H: int,\n",
        "              sh_degree_to_use: int,\n",
        "              bg_color: torch.Tensor | None):\n",
        "    return torch.rand(1, 800, 800, 3), torch.rand(1), torch.rand(1)\n",
        "\n",
        "gaussian_model = MockedModel()\n",
        "\n",
        "\n",
        "holdout_view_handler = HoldoutViewHandler(torch.eye(4),\n",
        "                                          torch.eye(3),\n",
        "                                          800,\n",
        "                                          800,\n",
        "                                          bg_color=torch.rand(3),\n",
        "                                          out_dir = \"unittests/test-renders\")\n",
        "\n",
        "holdout_view_handler.compute_holdout_view(gaussian_model, 3)\n",
        "holdout_view_handler.export_gif()\n",
        "\n",
        "assert os.path.exists(\"unittests/test-renders/training.gif\")"
      ],
      "metadata": {
        "id": "D-bBTH26wOdF"
      },
      "execution_count": 159,
      "outputs": []
    },
    {
      "cell_type": "markdown",
      "source": [
        "## Logger"
      ],
      "metadata": {
        "id": "dp_UTwLohuLP"
      }
    },
    {
      "cell_type": "code",
      "source": [
        "import wandb\n",
        "\n",
        "class Logger:\n",
        "    def __init__(self,\n",
        "                 wandb_project: str,\n",
        "                 wandb_run_name: str,\n",
        "                 wandb_key_file_path: str,\n",
        "                 device: str):\n",
        "\n",
        "        self.wandb_project = wandb_project\n",
        "        self.wandb_run_name = wandb_run_name\n",
        "\n",
        "        with open(wandb_key_file_path, \"r\") as f:\n",
        "            self.wandb_key = f.read().strip()\n",
        "        self.device = device\n",
        "\n",
        "        wandb.login(key=self.wandb_key)\n",
        "        self.run = wandb.init(\n",
        "            project=self.wandb_project,\n",
        "            name=self.wandb_run_name,\n",
        "            force=True)\n",
        "\n",
        "    def log(self, dict: Dict, iteration: int):\n",
        "        self.run.log(dict, step=iteration)\n",
        "\n",
        "    def finish(self):\n",
        "        self.run.finish()"
      ],
      "metadata": {
        "id": "RXmv30R2hs33"
      },
      "execution_count": 160,
      "outputs": []
    },
    {
      "cell_type": "markdown",
      "source": [
        "### Logger - Tests"
      ],
      "metadata": {
        "id": "RJQkvnf7iaHI"
      }
    },
    {
      "cell_type": "code",
      "source": [
        "# Test: Given a valid wandb API key, when initializing, then no error must be thrown\n",
        "\n",
        "# Logger(\"unittests\", \"unittest-run\", \"/content/drive/MyDrive/TUWien/MasterThesisNeRF/gsplat/wandb-api-key.txt\", \"cuda\").finish()\n",
        "# test to slow!"
      ],
      "metadata": {
        "id": "dVankPKjiYya"
      },
      "execution_count": 161,
      "outputs": []
    },
    {
      "cell_type": "markdown",
      "source": [
        "## Add Background"
      ],
      "metadata": {
        "id": "QlwR8VKkFAYe"
      }
    },
    {
      "cell_type": "code",
      "source": [
        "import torch\n",
        "\n",
        "def add_backround(rgbs: torch.Tensor, background: torch.Tensor, alpha: torch.Tensor) -> torch.Tensor:\n",
        "  blended_image = rgbs * alpha + background * (1 - alpha)\n",
        "\n",
        "  return blended_image"
      ],
      "metadata": {
        "id": "S-I4_o7yE8zP"
      },
      "execution_count": 162,
      "outputs": []
    },
    {
      "cell_type": "markdown",
      "source": [
        "### Add background test"
      ],
      "metadata": {
        "id": "D7K45x6SH0LR"
      }
    },
    {
      "cell_type": "code",
      "source": [
        "# Given an observation from a blender synthetic dataset, when adding a background, display the background\n",
        "\n",
        "import matplotlib.pyplot as plt\n",
        "\n",
        "blender_synthetic_dataset = BlenderSyntheticDataset(data_root=\"../nerf-synthetic/lego\", split=\"val\", max_num_init_points=200, limit=1)\n",
        "observation = next(iter(blender_synthetic_dataset))\n",
        "rgb = observation[1]\n",
        "alpha = observation[2]\n",
        "\n",
        "bg_image = torch.rand(800, 800, 3)\n",
        "\n",
        "blended_image = add_backround(rgb, bg_image, alpha)\n",
        "\n",
        "plt.imshow(blended_image)\n",
        "plt.show()"
      ],
      "metadata": {
        "colab": {
          "base_uri": "https://localhost:8080/",
          "height": 452
        },
        "id": "-ixDKpNrHzjr",
        "outputId": "2f1e26a1-2348-47e7-b752-09e63c253b66"
      },
      "execution_count": 163,
      "outputs": [
        {
          "output_type": "stream",
          "name": "stdout",
          "text": [
            "Subsampling point cloud (200)...\n"
          ]
        },
        {
          "output_type": "display_data",
          "data": {
            "text/plain": [
              "<Figure size 640x480 with 1 Axes>"
            ],
            "image/png": "[encoded data removed]"
          },
          "metadata": {}
        }
      ]
    },
    {
      "cell_type": "markdown",
      "source": [
        "## Metrics"
      ],
      "metadata": {
        "id": "ShIIFw8t_PU0"
      }
    },
    {
      "cell_type": "markdown",
      "source": [
        "### SSIM"
      ],
      "metadata": {
        "id": "Xhr9euSD_z7r"
      }
    },
    {
      "cell_type": "code",
      "source": [
        "from torch.autograd import Variable\n",
        "from math import exp\n",
        "import torch.nn.functional as F\n",
        "\n",
        "def ssim(img1, img2, window_size=11, size_average=True):\n",
        "    channel = img1.size(-3)\n",
        "    window = create_window(window_size, channel)\n",
        "\n",
        "    if img1.is_cuda:\n",
        "        window = window.cuda(img1.get_device())\n",
        "    window = window.type_as(img1)\n",
        "\n",
        "    mu1 = F.conv2d(img1, window, padding=window_size // 2, groups=channel)\n",
        "    mu2 = F.conv2d(img2, window, padding=window_size // 2, groups=channel)\n",
        "\n",
        "    mu1_sq = mu1.pow(2)\n",
        "    mu2_sq = mu2.pow(2)\n",
        "    mu1_mu2 = mu1 * mu2\n",
        "\n",
        "    sigma1_sq = F.conv2d(img1 * img1, window, padding=window_size // 2, groups=channel) - mu1_sq\n",
        "    sigma2_sq = F.conv2d(img2 * img2, window, padding=window_size // 2, groups=channel) - mu2_sq\n",
        "    sigma12 = F.conv2d(img1 * img2, window, padding=window_size // 2, groups=channel) - mu1_mu2\n",
        "\n",
        "    C1 = 0.01 ** 2\n",
        "    C2 = 0.03 ** 2\n",
        "\n",
        "    ssim_map = ((2 * mu1_mu2 + C1) * (2 * sigma12 + C2)) / ((mu1_sq + mu2_sq + C1) * (sigma1_sq + sigma2_sq + C2))\n",
        "\n",
        "    if size_average:\n",
        "        return ssim_map.mean()\n",
        "    else:\n",
        "        return ssim_map.mean(1).mean(1).mean(1)\n",
        "\n",
        "def gaussian(window_size, sigma):\n",
        "    gauss = torch.Tensor([exp(-(x - window_size // 2) ** 2 / float(2 * sigma ** 2)) for x in range(window_size)])\n",
        "    return gauss / gauss.sum()\n",
        "\n",
        "def create_window(window_size, channel):\n",
        "    _1D_window = gaussian(window_size, 1.5).unsqueeze(1)\n",
        "    _2D_window = _1D_window.mm(_1D_window.t()).float().unsqueeze(0).unsqueeze(0)\n",
        "    window = Variable(_2D_window.expand(channel, 1, window_size, window_size).contiguous())\n",
        "    return window"
      ],
      "metadata": {
        "id": "6JBnTnAq_Xn3"
      },
      "execution_count": 164,
      "outputs": []
    },
    {
      "cell_type": "markdown",
      "source": [
        "#### SSIM Metric - Tests"
      ],
      "metadata": {
        "id": "m8keGHlL_4kH"
      }
    },
    {
      "cell_type": "code",
      "source": [
        "# Given two images that are the same, when computing the ssim it must be one\n",
        "\n",
        "im1 = torch.ones(1, 800, 800, 3)\n",
        "im2 = torch.ones(1, 800, 800, 3)\n",
        "\n",
        "assert ssim(im1, im2) == 1.0"
      ],
      "metadata": {
        "id": "vsLA2fAg_84K"
      },
      "execution_count": 165,
      "outputs": []
    },
    {
      "cell_type": "code",
      "source": [
        "# Given two images that are the opposite, when computing the ssim it must be almost zero\n",
        "from numpy.testing import assert_almost_equal\n",
        "\n",
        "im1 = torch.ones(1, 800, 800, 3)\n",
        "im2 = torch.zeros(1, 800, 800, 3)\n",
        "\n",
        "assert_almost_equal(ssim(im1, im2), 0.0, 6)"
      ],
      "metadata": {
        "id": "ofiJai5VC0at"
      },
      "execution_count": 166,
      "outputs": []
    },
    {
      "cell_type": "markdown",
      "source": [
        "### PSNR"
      ],
      "metadata": {
        "id": "GxnisKPtAY7D"
      }
    },
    {
      "cell_type": "code",
      "source": [
        "def psnr(img1, img2):\n",
        "    mse = (((img1 - img2)) ** 2).view(img1.shape[0], -1).mean(1, keepdim=True)\n",
        "    return 20 * torch.log10(1.0 / torch.sqrt(mse)).mean().double()"
      ],
      "metadata": {
        "id": "U8UuiQofAhe0"
      },
      "execution_count": 167,
      "outputs": []
    },
    {
      "cell_type": "markdown",
      "source": [
        "#### PSNR - Tests"
      ],
      "metadata": {
        "id": "mnE2GA3QBZKI"
      }
    },
    {
      "cell_type": "code",
      "source": [
        "# Given two images that are the opposite, when computing the psnr then it must be zero\n",
        "\n",
        "im1 = torch.ones(1, 800, 800, 3)\n",
        "im2 = torch.zeros(1, 800, 800, 3)\n",
        "\n",
        "assert psnr(im1, im2) == 0.0"
      ],
      "metadata": {
        "id": "LtdL27y0Bbnh"
      },
      "execution_count": 168,
      "outputs": []
    },
    {
      "cell_type": "code",
      "source": [
        "# Given two images that are the same, when computing the psnr it must be infinite\n",
        "\n",
        "import numpy as np\n",
        "\n",
        "im1 = torch.ones(1, 800, 800, 3)\n",
        "im2 = torch.ones(1, 800, 800, 3)\n",
        "\n",
        "assert psnr(im1, im2) == np.Inf"
      ],
      "metadata": {
        "id": "tIgOrm3ZCl5a"
      },
      "execution_count": 169,
      "outputs": []
    },
    {
      "cell_type": "code",
      "source": [
        "# Given two images that are random, when computing the psnr the value must be finite\n",
        "\n",
        "import numpy as np\n",
        "\n",
        "im1 = torch.rand(1, 800, 800, 3)\n",
        "im2 = torch.rand(1, 800, 800, 3)\n",
        "\n",
        "assert np.isfinite(psnr(im1, im2))"
      ],
      "metadata": {
        "id": "gfCkbul1HJG5"
      },
      "execution_count": 170,
      "outputs": []
    },
    {
      "cell_type": "markdown",
      "source": [
        "## Config"
      ],
      "metadata": {
        "id": "0Y_zfoeWuzNH"
      }
    },
    {
      "cell_type": "code",
      "source": [
        "from dataclasses import dataclass, field\n",
        "from typing import List\n",
        "\n",
        "@dataclass\n",
        "class Config:\n",
        "  # INITIALIZATION\n",
        "  # Radius of the scene (Especially important for NeRF data i think)\n",
        "  scene_radius: float = 1.0\n",
        "  # Initial number of Gaussians\n",
        "  init_num_gaussians: int = 2000\n",
        "  # The number of spherical harmonics degrees to compute the color\n",
        "  sh_degree: int = 3\n",
        "\n",
        "  # RENDERING\n",
        "  # Use packed mode for rasterization, this leads to less memory usage but slightly slower.\n",
        "  packed: bool = False\n",
        "\n",
        "  # TRAINING\n",
        "  # Strategy to use for densifying the gaussians\n",
        "  strategy_type: Literal[\"mcmc\"] = \"mcmc\"\n",
        "  # Number of training steps\n",
        "  max_steps: int = 10_000\n",
        "  # Opacity regularization\n",
        "  opacity_reg: float = 0.0\n",
        "  # Scale regularization\n",
        "  scale_reg: float = 0.0\n",
        "  # the frequency with which holdout views are created\n",
        "  holdout_view_frequency: int = 20\n",
        "  # the amount of ssim included in the loss\n",
        "  ssim_lambda: float = 0.2\n",
        "  max_num_gaussians: int = 12000\n",
        "  # the exact iterations when the testing loop is supposed to be executed\n",
        "  test_iterations: List[int] = field(default_factory=lambda: [1, 500, 1000, 5000, 7500, 9000, 10000])\n",
        "  # Wether to print verbose info\n",
        "  verbose: bool = False\n",
        "  # maximum cap for the number of gaussians\n",
        "  cap_max: int = 12_000\n",
        "  # MCMC samping noise learning rate. Default to 5e5.\n",
        "  noise_lr: float = 5e5\n",
        "  # Start refining GSs after this iteration. Default to 500.\n",
        "  refine_start_iter: int = 500\n",
        "  # Stop refining GSs after this iteration. Default to 25_000.\n",
        "  refine_stop_iter: int = 25_000\n",
        "  # Refine GSs every this steps. Default to 100.\n",
        "  refine_every: int = 100\n",
        "  # GSs with opacity below this value will be pruned. Default to 0.005.\n",
        "  min_opacity: float = 0.005\n",
        "  # Interval with which the spherical harmonics degree is increased to reach the maximum\n",
        "  sh_degree_interval: int = 1000\n"
      ],
      "metadata": {
        "id": "_frvK7Deu0fb"
      },
      "execution_count": 171,
      "outputs": []
    },
    {
      "cell_type": "markdown",
      "source": [
        "## Strategies"
      ],
      "metadata": {
        "id": "8cBg33ctivev"
      }
    },
    {
      "cell_type": "markdown",
      "source": [
        "### MCMC Strategy"
      ],
      "metadata": {
        "id": "J6l4bxWQdISg"
      }
    },
    {
      "cell_type": "code",
      "source": [
        "import math\n",
        "from dataclasses import dataclass\n",
        "from typing import Any, Dict, Union, Tuple\n",
        "\n",
        "import torch\n",
        "from torch import Tensor\n",
        "\n",
        "from gsplat.strategy import Strategy\n",
        "from gsplat.strategy.ops import inject_noise_to_position, relocate, sample_add\n",
        "\n",
        "\n",
        "@dataclass\n",
        "class MCMCStrategy(Strategy):\n",
        "    \"\"\"Strategy that follows the paper:\n",
        "\n",
        "    `3D Gaussian Splatting as Markov Chain Monte Carlo <https://arxiv.org/abs/2404.09591>`_\n",
        "\n",
        "    This strategy will:\n",
        "\n",
        "    - Periodically teleport GSs with low opacity to a place that has high opacity.\n",
        "    - Periodically introduce new GSs sampled based on the opacity distribution.\n",
        "    - Periodically perturb the GSs locations.\n",
        "\n",
        "    Args:\n",
        "        cap_max (int): Maximum number of GSs. Default to 1_000_000.\n",
        "        noise_lr (float): MCMC samping noise learning rate. Default to 5e5.\n",
        "        refine_start_iter (int): Start refining GSs after this iteration. Default to 500.\n",
        "        refine_stop_iter (int): Stop refining GSs after this iteration. Default to 25_000.\n",
        "        refine_every (int): Refine GSs every this steps. Default to 100.\n",
        "        min_opacity (float): GSs with opacity below this value will be pruned. Default to 0.005.\n",
        "        verbose (bool): Whether to print verbose information. Default to False.\n",
        "\n",
        "    Examples:\n",
        "\n",
        "        >>> from gsplat import MCMCStrategy, rasterization\n",
        "        >>> params: Dict[str, torch.nn.Parameter] | torch.nn.ParameterDict = ...\n",
        "        >>> optimizers: Dict[str, torch.optim.Optimizer] = ...\n",
        "        >>> strategy = MCMCStrategy()\n",
        "        >>> strategy.check_sanity(params, optimizers)\n",
        "        >>> strategy_state = strategy.initialize_state()\n",
        "        >>> for step in range(1000):\n",
        "        ...     render_image, render_alpha, info = rasterization(...)\n",
        "        ...     loss = ...\n",
        "        ...     loss.backward()\n",
        "        ...     strategy.step_post_backward(params, optimizers, strategy_state, step, info, lr=1e-3)\n",
        "\n",
        "    \"\"\"\n",
        "\n",
        "    cap_max: int = 1_000_000\n",
        "    noise_lr: float = 5e5\n",
        "    refine_start_iter: int = 500\n",
        "    refine_stop_iter: int = 25_000\n",
        "    refine_every: int = 100\n",
        "    min_opacity: float = 0.005\n",
        "    verbose: bool = False\n",
        "\n",
        "    def initialize_state(self) -> Dict[str, Any]:\n",
        "        \"\"\"Initialize and return the running state for this strategy.\"\"\"\n",
        "        n_max = 51\n",
        "        binoms = torch.zeros((n_max, n_max))\n",
        "        for n in range(n_max):\n",
        "            for k in range(n + 1):\n",
        "                binoms[n, k] = math.comb(n, k)\n",
        "        return {\"binoms\": binoms}\n",
        "\n",
        "    def check_sanity(\n",
        "        self,\n",
        "        params: Union[Dict[str, torch.nn.Parameter], torch.nn.ParameterDict],\n",
        "        optimizers: Dict[str, torch.optim.Optimizer],\n",
        "    ):\n",
        "        \"\"\"Sanity check for the parameters and optimizers.\n",
        "\n",
        "        Check if:\n",
        "            * `params` and `optimizers` have the same keys.\n",
        "            * Each optimizer has exactly one param_group, corresponding to each parameter.\n",
        "            * The following keys are present: {\"means\", \"scales\", \"quats\", \"opacities\"}.\n",
        "\n",
        "        Raises:\n",
        "            AssertionError: If any of the above conditions is not met.\n",
        "\n",
        "        .. note::\n",
        "            It is not required but highly recommended for the user to call this function\n",
        "            after initializing the strategy to ensure the convention of the parameters\n",
        "            and optimizers is as expected.\n",
        "        \"\"\"\n",
        "\n",
        "        super().check_sanity(params, optimizers)\n",
        "        # The following keys are required for this strategy.\n",
        "        for key in [\"means\", \"scales\", \"quats\", \"opacities\"]:\n",
        "            assert key in params, f\"{key} is required in params but missing.\"\n",
        "\n",
        "    # def step_pre_backward(\n",
        "    #     self,\n",
        "    #     params: Union[Dict[str, torch.nn.Parameter], torch.nn.ParameterDict],\n",
        "    #     optimizers: Dict[str, torch.optim.Optimizer],\n",
        "    #     # state: Dict[str, Any],\n",
        "    #     step: int,\n",
        "    #     info: Dict[str, Any],\n",
        "    # ):\n",
        "    #     \"\"\"Callback function to be executed before the `loss.backward()` call.\"\"\"\n",
        "    #     pass\n",
        "\n",
        "    def step_post_backward(\n",
        "        self,\n",
        "        params: Union[Dict[str, torch.nn.Parameter], torch.nn.ParameterDict],\n",
        "        optimizers: Dict[str, torch.optim.Optimizer],\n",
        "        state: Dict[str, Any],\n",
        "        step: int,\n",
        "        info: Dict[str, Any],\n",
        "        lr: float,\n",
        "    ) -> Tuple[int, int]:\n",
        "        \"\"\"Callback function to be executed after the `loss.backward()` call.\n",
        "\n",
        "        Args:\n",
        "            lr (float): Learning rate for \"means\" attribute of the GS.\n",
        "        \"\"\"\n",
        "        # move to the correct device\n",
        "        state[\"binoms\"] = state[\"binoms\"].to(params[\"means\"].device)\n",
        "\n",
        "        binoms = state[\"binoms\"]\n",
        "\n",
        "        n_new_gs = 0\n",
        "        n_relocated_gs = 0\n",
        "\n",
        "        if (\n",
        "            step < self.refine_stop_iter\n",
        "            and step > self.refine_start_iter\n",
        "            and step % self.refine_every == 0\n",
        "        ):\n",
        "            # teleport GSs\n",
        "            n_relocated_gs = self._relocate_gs(params, optimizers, binoms)\n",
        "            if self.verbose:\n",
        "                print(f\"Step {step}: Relocated {n_relocated_gs} GSs.\")\n",
        "\n",
        "            # add new GSs\n",
        "            n_new_gs = self._add_new_gs(params, optimizers, binoms)\n",
        "            if self.verbose:\n",
        "                print(\n",
        "                    f\"Step {step}: Added {n_new_gs} GSs. \"\n",
        "                    f\"Now having {len(params['means'])} GSs.\"\n",
        "                )\n",
        "\n",
        "            torch.cuda.empty_cache()\n",
        "\n",
        "        # add noise to GSs\n",
        "        inject_noise_to_position(\n",
        "            params=params, optimizers=optimizers, state={}, scaler=lr * self.noise_lr\n",
        "        )\n",
        "\n",
        "        return n_new_gs + n_relocated_gs, n_relocated_gs # n_created, n_deleted\n",
        "\n",
        "    @torch.no_grad()\n",
        "    def _relocate_gs(\n",
        "        self,\n",
        "        params: Union[Dict[str, torch.nn.Parameter], torch.nn.ParameterDict],\n",
        "        optimizers: Dict[str, torch.optim.Optimizer],\n",
        "        binoms: Tensor,\n",
        "    ) -> int:\n",
        "        opacities = torch.sigmoid(params[\"opacities\"].flatten())\n",
        "        dead_mask = opacities <= self.min_opacity\n",
        "        n_gs = dead_mask.sum().item()\n",
        "        if n_gs > 0:\n",
        "            relocate(\n",
        "                params=params,\n",
        "                optimizers=optimizers,\n",
        "                state={},\n",
        "                mask=dead_mask,\n",
        "                binoms=binoms,\n",
        "                min_opacity=self.min_opacity,\n",
        "            )\n",
        "        return n_gs\n",
        "\n",
        "    @torch.no_grad()\n",
        "    def _add_new_gs(\n",
        "        self,\n",
        "        params: Union[Dict[str, torch.nn.Parameter], torch.nn.ParameterDict],\n",
        "        optimizers: Dict[str, torch.optim.Optimizer],\n",
        "        binoms: Tensor,\n",
        "    ) -> int:\n",
        "        current_n_points = len(params[\"means\"])\n",
        "        n_target = min(self.cap_max, int(1.05 * current_n_points))\n",
        "        n_gs = max(0, n_target - current_n_points)\n",
        "        if n_gs > 0:\n",
        "            sample_add(\n",
        "                params=params,\n",
        "                optimizers=optimizers,\n",
        "                state={},\n",
        "                n=n_gs,\n",
        "                binoms=binoms,\n",
        "                min_opacity=self.min_opacity,\n",
        "            )\n",
        "        return n_gs"
      ],
      "metadata": {
        "id": "CYIebdfebjHi"
      },
      "execution_count": 172,
      "outputs": []
    },
    {
      "cell_type": "markdown",
      "source": [
        "### Strategy Wrapper"
      ],
      "metadata": {
        "id": "r1gwPqmvdM-d"
      }
    },
    {
      "cell_type": "code",
      "source": [
        "from typing import Tuple, Literal\n",
        "\n",
        "class Strategy:\n",
        "  def __init__(self, config: Config):\n",
        "    if config.strategy_type == \"mcmc\":\n",
        "      self.strategy = MCMCStrategy(\n",
        "          cap_max=config.cap_max,\n",
        "          noise_lr=config.noise_lr,\n",
        "          refine_start_iter=config.refine_start_iter,\n",
        "          refine_stop_iter=config.refine_stop_iter,\n",
        "          refine_every=config.refine_every,\n",
        "          min_opacity=config.min_opacity,\n",
        "          verbose=config.verbose,\n",
        "      )\n",
        "      self.strategy_state = self.strategy.initialize_state()\n",
        "    else:\n",
        "      AssertionError(f\"Unknown strategy {self.strategy}\")\n",
        "\n",
        "  def check_sanity(self, params, optimizers):\n",
        "    self.strategy.check_sanity(params, optimizers)\n",
        "\n",
        "  def step_pre_backward(self,\n",
        "                        params,\n",
        "                        optimizers,\n",
        "                        step: int,\n",
        "                        info):\n",
        "    self.strategy.step_pre_backward(\n",
        "      params=params,\n",
        "      optimizers=optimizers,\n",
        "      state=self.strategy_state,\n",
        "      step=step,\n",
        "      info=info,\n",
        "    )\n",
        "\n",
        "  def step_post_backward(self,\n",
        "                         params,\n",
        "                         optimizers,\n",
        "                         step: int,\n",
        "                         info,\n",
        "                         packed,\n",
        "                         schedulers) -> Tuple[int, int]:\n",
        "    #if isinstance(self.strategy, DefaultStrategy):\n",
        "    #  self.strategy.step_post_backward(\n",
        "    #    params=params,\n",
        "    #    optimizers=optimizers,\n",
        "    #    state=self.strategy_state,\n",
        "    #    step=step,\n",
        "    #    info=info,\n",
        "    #    packed=packed,\n",
        "    #  )\n",
        "    if isinstance(self.strategy, MCMCStrategy):\n",
        "      return self.strategy.step_post_backward(\n",
        "        params=params,\n",
        "        optimizers=optimizers,\n",
        "        state=self.strategy_state,\n",
        "        step=step,\n",
        "        info=info,\n",
        "        lr=schedulers[0].get_last_lr()[0],\n",
        "      )\n",
        "    else:\n",
        "      AssertionError(f\"Unknown strategy {self.strategy}\")"
      ],
      "metadata": {
        "id": "pUarfsSfizBI"
      },
      "execution_count": 173,
      "outputs": []
    },
    {
      "cell_type": "markdown",
      "source": [
        "## Validation-Handler"
      ],
      "metadata": {
        "id": "H7tXLmt9GTH0"
      }
    },
    {
      "cell_type": "code",
      "source": [
        "from typing import Optional\n",
        "\n",
        "class ValidationHandler:\n",
        "  def __init__(\n",
        "        self,\n",
        "        train_dataset: BlenderSyntheticDataset,\n",
        "        test_dataset: Optional[BlenderSyntheticDataset],\n",
        "        test_iterations: List[int],\n",
        "        device: str,\n",
        "        W: int,\n",
        "        H: int,\n",
        "        bg_color: torch.Tensor,\n",
        "        sh_degree_interval: int,\n",
        "        logger: Optional[Logger] = None,\n",
        "      ):\n",
        "        self.train_dataset = train_dataset\n",
        "        self.test_dataset = test_dataset\n",
        "        self.test_iterations = test_iterations\n",
        "        self.logger = logger\n",
        "        self.device = device\n",
        "        self.W = W\n",
        "        self.H = H\n",
        "        self.sh_degree_interval = sh_degree_interval\n",
        "        self.bg_color = bg_color\n",
        "\n",
        "        self.validation_configs = [\n",
        "          {\n",
        "            \"name\": \"train_every_5th\",\n",
        "            \"range\" : range(0, len(self.train_dataset), 5),\n",
        "            \"data\": self.train_dataset\n",
        "          }\n",
        "        ]\n",
        "        if self.test_dataset is not None:\n",
        "            self.validation_configs.append({\n",
        "              \"name\": \"test_full\",\n",
        "              \"range\" : range(len(self.test_dataset)),\n",
        "              \"data\": self.test_dataset\n",
        "            })\n",
        "\n",
        "  def handle_validation(self, gaussian_model: GaussianModel, step: int):\n",
        "    if step in self.test_iterations and self.logger is not None:\n",
        "      ssims = []\n",
        "      psnrs = []\n",
        "\n",
        "      for config in self.validation_configs:\n",
        "        for test_iter in config[\"range\"]:\n",
        "          dataset = config[\"data\"]\n",
        "          K = dataset.intrinsics.to(self.device).to(torch.float32)\n",
        "          observation = dataset[test_iter]\n",
        "          viewmat = observation[0].to(self.device)\n",
        "          gt_image = observation[1].to(self.device)\n",
        "          gt_alpha = observation[2].to(self.device)\n",
        "\n",
        "          bg_image = torch.ones_like(gt_image).to(self.device)\n",
        "\n",
        "          gt_image = add_backround(gt_image, bg_image, gt_alpha)\n",
        "\n",
        "          sh_degree_to_use = min(step // self.sh_degree_interval, gaussian_model.sh_degree)\n",
        "\n",
        "          renders, alphas, info = gaussian_model(\n",
        "              view_matrix=viewmat.unsqueeze(0),\n",
        "              K=K.unsqueeze(0),\n",
        "              W=self.W,\n",
        "              H=self.H,\n",
        "              sh_degree_to_use=sh_degree_to_use,\n",
        "              bg_color=self.bg_color.unsqueeze(0)\n",
        "          )\n",
        "          out_img = renders[0]\n",
        "\n",
        "          ssims.append(ssim(out_img.permute(2, 0, 1), gt_image.permute(2, 0, 1)).detach().cpu())\n",
        "          psnrs.append(psnr(out_img.permute(2, 0, 1), gt_image.permute(2, 0, 1)).detach().cpu())\n",
        "\n",
        "        self.logger.log({\n",
        "          f\"{config['name']}/ssim\": np.mean(ssims),\n",
        "          f\"{config['name']}/psnr\": np.mean(psnrs),\n",
        "        }, step)\n"
      ],
      "metadata": {
        "id": "ZoEK9d_yGSJn"
      },
      "execution_count": 174,
      "outputs": []
    },
    {
      "cell_type": "markdown",
      "source": [
        "### Validation-Handler - Tests"
      ],
      "metadata": {
        "id": "OV7VPe3gISCi"
      }
    },
    {
      "cell_type": "code",
      "source": [
        "# Test: Given only a train dataset, when intializing the validation handler, then it must only contain a single validation config\n",
        "\n",
        "train_dataset = BlenderSyntheticDataset(data_root=\"../nerf-synthetic/lego\", split=\"train\", max_num_init_points=200, limit=1)\n",
        "W, H = 800, 800\n",
        "bg = torch.ones(3).to(\"cuda\")\n",
        "\n",
        "validation_handler = ValidationHandler(\n",
        "  train_dataset=train_dataset,\n",
        "  test_dataset=None,\n",
        "  test_iterations=[1000],\n",
        "  device=\"cuda\",\n",
        "  W=W,\n",
        "  H=H,\n",
        "  bg_color=bg,\n",
        "  sh_degree_interval=1000,\n",
        "  logger=None)\n",
        "\n",
        "assert len(validation_handler.validation_configs) == 1"
      ],
      "metadata": {
        "colab": {
          "base_uri": "https://localhost:8080/"
        },
        "id": "UCYHC0bhIU8H",
        "outputId": "d603688a-a02d-465c-b85b-13566c8ea25b"
      },
      "execution_count": 175,
      "outputs": [
        {
          "output_type": "stream",
          "name": "stdout",
          "text": [
            "Subsampling point cloud (200)...\n"
          ]
        }
      ]
    },
    {
      "cell_type": "code",
      "source": [
        "# Test: Given a train and test dataset, when initializing the validation handler, then it must contain two validation configs\n",
        "\n",
        "test_dataset = BlenderSyntheticDataset(data_root=\"../nerf-synthetic/lego\", split=\"test\", max_num_init_points=200, limit=1)\n",
        "\n",
        "validation_handler = ValidationHandler(\n",
        "    train_dataset=train_dataset,\n",
        "    test_dataset=test_dataset,\n",
        "    test_iterations=[1000],\n",
        "    device=\"cuda\",\n",
        "    W=W,\n",
        "    H=H,\n",
        "    bg_color=bg,\n",
        "    sh_degree_interval=1000,\n",
        "    logger=None)\n",
        "\n",
        "assert len(validation_handler.validation_configs) == 2"
      ],
      "metadata": {
        "colab": {
          "base_uri": "https://localhost:8080/"
        },
        "id": "QiTlGunnIr-E",
        "outputId": "e1982ac1-64da-43d3-a6d9-2dc060972d2c"
      },
      "execution_count": 176,
      "outputs": [
        {
          "output_type": "stream",
          "name": "stdout",
          "text": [
            "Subsampling point cloud (200)...\n"
          ]
        }
      ]
    },
    {
      "cell_type": "code",
      "source": [
        "# Test: Given a logger, when calling the validation method with the correct step, then the logger must have been called\n",
        "from unittest.mock import create_autospec\n",
        "\n",
        "gaussian_model = GaussianModel.from_point_cloud(train_dataset.pcd, train_dataset.norm.radius).to(\"cuda\")\n",
        "logger = create_autospec(Logger)\n",
        "validation_handler = ValidationHandler(\n",
        "    train_dataset=train_dataset,\n",
        "    test_dataset=test_dataset,\n",
        "    test_iterations=[1000],\n",
        "    device=\"cuda\",\n",
        "    W=W,\n",
        "    H=H,\n",
        "    bg_color=bg,\n",
        "    sh_degree_interval=1000,\n",
        "    logger=logger)\n",
        "\n",
        "validation_handler.handle_validation(gaussian_model, 1000)\n",
        "\n",
        "assert logger.log.called"
      ],
      "metadata": {
        "id": "gP9Bpi3mJOBT"
      },
      "execution_count": 177,
      "outputs": []
    },
    {
      "cell_type": "code",
      "source": [
        "# Test: Given no logger, when calling the validation method with the correct step, then no error must be thrown\n",
        "validation_handler = ValidationHandler(\n",
        "    train_dataset=train_dataset,\n",
        "    test_dataset=test_dataset,\n",
        "    test_iterations=[1000],\n",
        "    device=\"cuda\",\n",
        "    W=W,\n",
        "    H=H,\n",
        "    bg_color=bg,\n",
        "    sh_degree_interval=1000,\n",
        "    logger=None)\n",
        "\n",
        "validation_handler.handle_validation(gaussian_model, 1000)"
      ],
      "metadata": {
        "id": "m_2qN0bhKMAm"
      },
      "execution_count": 178,
      "outputs": []
    },
    {
      "cell_type": "markdown",
      "source": [
        "## Trainer"
      ],
      "metadata": {
        "id": "wBXVzcz9yyRD"
      }
    },
    {
      "cell_type": "code",
      "execution_count": 197,
      "metadata": {
        "id": "zQRlLOPw-IW9"
      },
      "outputs": [],
      "source": [
        "import math\n",
        "import os\n",
        "import time\n",
        "from pathlib import Path\n",
        "from typing import Optional, List\n",
        "import numpy as np\n",
        "import torch\n",
        "from PIL import Image\n",
        "from torch import Tensor, optim\n",
        "from torch.nn import functional as F\n",
        "from tqdm import tqdm\n",
        "from matplotlib import pyplot as plt\n",
        "\n",
        "class SimpleTrainer:\n",
        "    \"\"\"Trains random gaussians to fit an image.\"\"\"\n",
        "\n",
        "    def __init__(\n",
        "        self,\n",
        "        train_dataset: BlenderSyntheticDataset,\n",
        "        test_dataset: Optional[BlenderSyntheticDataset],\n",
        "        gaussian_model: GaussianModel,\n",
        "        strategy: Strategy,\n",
        "        optimizers: Dict,\n",
        "        schedulers: List,\n",
        "        config: Config = Config(),\n",
        "        holdout_view_handler: Optional[HoldoutViewHandler] = None,\n",
        "        logger: Optional[Logger] = None,\n",
        "    ):\n",
        "        self.device = torch.device(\"cuda:0\")\n",
        "        self.train_dataset = train_dataset\n",
        "        self.test_dataset = test_dataset\n",
        "        self.holdout_view_handler = holdout_view_handler.to(self.device)\n",
        "        self.config = config\n",
        "        self.holdout_view_frequency = config.holdout_view_frequency\n",
        "\n",
        "        self.H, self.W = self.train_dataset.image_size\n",
        "        self.img_size = torch.tensor([self.W, self.H, 1], device=self.device)\n",
        "\n",
        "        self.gaussian_model = gaussian_model.to(self.device)\n",
        "\n",
        "        self.optimizers = optimizers\n",
        "        self.schedulers = schedulers\n",
        "\n",
        "        self.strategy = strategy\n",
        "        self.logger = logger\n",
        "\n",
        "        self.strategy.check_sanity(self.gaussian_model.params, self.optimizers)\n",
        "\n",
        "        self.cum_created = 0\n",
        "        self.cum_deleted = 0\n",
        "\n",
        "        self.bg_color = torch.ones(3).to(self.device)\n",
        "\n",
        "        self.validation_handler = ValidationHandler(\n",
        "            train_dataset=self.train_dataset,\n",
        "            test_dataset=self.test_dataset,\n",
        "            test_iterations=self.config.test_iterations,\n",
        "            W=W,\n",
        "            H=H,\n",
        "            bg_color=self.bg_color,\n",
        "            logger=self.logger,\n",
        "            device=self.device,\n",
        "            sh_degree_interval=self.config.sh_degree_interval\n",
        "        )\n",
        "\n",
        "    def train(\n",
        "        self,\n",
        "    ):\n",
        "        frames = []\n",
        "        times = [0] * 2  # rasterization, backward\n",
        "\n",
        "        indeces = list(range(len(self.train_dataset)))\n",
        "\n",
        "        # shuffle indeces\n",
        "        np.random.shuffle(indeces)\n",
        "\n",
        "        tqdm_progress = tqdm(range(1, self.config.max_steps + 1), desc=\"Training\")\n",
        "        for iter in tqdm_progress:\n",
        "            start = time.time()\n",
        "            K = self.train_dataset.intrinsics.to(self.device).to(torch.float32)\n",
        "            observation = self.train_dataset[indeces[(iter - 1) % len(indeces)]]\n",
        "            viewmat = observation[0].to(self.device)\n",
        "            gt_image = observation[1].to(self.device)\n",
        "            gt_alpha = observation[2].to(self.device)\n",
        "\n",
        "            bg_image = torch.ones_like(gt_image).to(self.device) * self.bg_color\n",
        "\n",
        "            gt_image = add_backround(gt_image, bg_image, gt_alpha)\n",
        "\n",
        "            sh_degree_to_use = min(iter // self.config.sh_degree_interval, gaussian_model.sh_degree)\n",
        "\n",
        "            renders, alphas, info = self.gaussian_model(\n",
        "                view_matrix=viewmat.unsqueeze(0),\n",
        "                K=K.unsqueeze(0),\n",
        "                W=self.W,\n",
        "                H=self.H,\n",
        "                sh_degree_to_use=sh_degree_to_use,\n",
        "                bg_color=self.bg_color.unsqueeze(0)\n",
        "            )\n",
        "            info[\"means2d\"].retain_grad()  # used for running stats\n",
        "\n",
        "            out_img = renders[0]\n",
        "            torch.cuda.synchronize()\n",
        "            times[0] += time.time() - start\n",
        "\n",
        "            self.strategy.step_pre_backward(\n",
        "              params=self.gaussian_model.params,\n",
        "              optimizers=self.optimizers,\n",
        "              step=iter,\n",
        "              info=info,\n",
        "            )\n",
        "\n",
        "            # loss\n",
        "            l1loss = F.l1_loss(out_img, gt_image)\n",
        "            ssimloss = 1.0 - ssim(\n",
        "                out_img.permute(2, 0, 1).unsqueeze(0), gt_image.permute(2, 0, 1).unsqueeze(0)\n",
        "            )\n",
        "            ssim_lambda = self.config.ssim_lambda\n",
        "            loss = l1loss * (1.0 - ssim_lambda) + ssimloss * ssim_lambda\n",
        "\n",
        "            # regularizations\n",
        "            if config.opacity_reg > 0.0:\n",
        "              loss = (\n",
        "                loss\n",
        "                + self.config.opacity_reg\n",
        "                * torch.abs(torch.sigmoid(self.gaussian_model.params[\"opacities\"])).mean()\n",
        "              )\n",
        "            if config.scale_reg > 0.0:\n",
        "              loss = (\n",
        "                loss\n",
        "                + config.scale_reg * torch.abs(torch.exp(self.gaussian_model.params[\"scales\"])).mean()\n",
        "              )\n",
        "\n",
        "            if self.logger is not None:\n",
        "                self.logger.log({\n",
        "                    \"train/psnr\": psnr(out_img.permute(2, 0, 1), gt_image.permute(2, 0, 1)),\n",
        "                    \"train/ssim\": ssim(out_img.permute(2, 0, 1), gt_image.permute(2, 0, 1)),\n",
        "                }, iter)\n",
        "\n",
        "            for key, optimizer in self.optimizers.items():\n",
        "              optimizer.zero_grad()\n",
        "\n",
        "            start = time.time()\n",
        "\n",
        "            loss.backward()\n",
        "            torch.cuda.synchronize()\n",
        "\n",
        "            n_created, n_deleted = self.strategy.step_post_backward(\n",
        "              params=self.gaussian_model.params,\n",
        "              optimizers=self.optimizers,\n",
        "              step=iter,\n",
        "              info=info,\n",
        "              packed=config.packed,\n",
        "              schedulers=self.schedulers\n",
        "            )\n",
        "\n",
        "            for key, optimizer in self.optimizers.items():\n",
        "              optimizer.step()\n",
        "            for scheduler in self.schedulers:\n",
        "              scheduler.step()\n",
        "\n",
        "            times[1] += time.time() - start\n",
        "\n",
        "            tqdm_progress.set_postfix({\"Loss\": loss.item()})\n",
        "\n",
        "            if self.holdout_view_handler is not None and iter % 20 == 0:\n",
        "                self.holdout_view_handler.compute_holdout_view(self.gaussian_model, sh_degree_to_use)\n",
        "\n",
        "            with torch.no_grad():\n",
        "              self.cum_created = self.cum_created + n_created\n",
        "              self.cum_deleted = self.cum_deleted + n_deleted\n",
        "              if self.logger is not None:\n",
        "                  self.logger.log({\n",
        "                      \"n_gaussians\": self.gaussian_model.params[\"means\"].shape[0],\n",
        "                      \"cum_created\": self.cum_created,\n",
        "                      \"cum_deleted\": self.cum_deleted,\n",
        "                  }, iter)\n",
        "\n",
        "              self.validation_handler.handle_validation(self.gaussian_model, iter)\n",
        "\n",
        "            # shuffle indeces\n",
        "            np.random.shuffle(indeces)\n",
        "\n",
        "        if self.holdout_view_handler is not None:\n",
        "            self.holdout_view_handler.export_gif()\n",
        "        print(f\"Total(s):\\nRasterization: {times[0]:.3f}, Backward: {times[1]:.3f}\")\n",
        "        print(\n",
        "            f\"Per step(s):\\nRasterization: {times[0]/self.config.max_steps:.5f}, Backward: {times[1]/self.config.max_steps:.5f}\"\n",
        "        )\n",
        "\n",
        "        return self.gaussian_model"
      ]
    },
    {
      "cell_type": "markdown",
      "source": [
        "## PLY Handling"
      ],
      "metadata": {
        "id": "3x8jPYbs4EaA"
      }
    },
    {
      "cell_type": "code",
      "source": [
        "import numpy as np\n",
        "from plyfile import PlyData, PlyElement\n",
        "\n",
        "def construct_list_of_attributes(model: GaussianParamsModel):\n",
        "    params = model.get_params()\n",
        "    l = ['x', 'y', 'z', 'nx', 'ny', 'nz']\n",
        "    # All channels except the 3 DC\n",
        "    for i in range(model.params[\"sh0\"].shape[1]*model.params[\"sh0\"].shape[2]):\n",
        "        l.append('f_dc_{}'.format(i))\n",
        "    for i in range(model.params[\"shN\"].shape[1]*model.params[\"shN\"].shape[2]):\n",
        "        l.append('f_rest_{}'.format(i))\n",
        "    l.append('opacity')\n",
        "    for i in range(model.params[\"scales\"].shape[1]):\n",
        "        l.append('scale_{}'.format(i))\n",
        "    for i in range(model.params[\"quats\"].shape[1]):\n",
        "        l.append('rot_{}'.format(i))\n",
        "    return l\n",
        "\n",
        "@torch.no_grad()\n",
        "def save_ply(model: GaussianParamsModel, path: str):\n",
        "    params = model.get_params()\n",
        "    os.makedirs(os.path.dirname(path), exist_ok=True)\n",
        "\n",
        "    xyz = model.params[\"means\"].detach().cpu().numpy()\n",
        "    normals = np.zeros_like(xyz)\n",
        "    f_dc = model.params[\"sh0\"].detach().transpose(1, 2).flatten(start_dim=1).contiguous().cpu().numpy()\n",
        "    f_rest = model.params[\"shN\"].detach().transpose(1, 2).flatten(start_dim=1).contiguous().cpu().numpy()\n",
        "    opacities = model.params[\"opacities\"].detach().unsqueeze(-1).cpu().numpy()\n",
        "    scale = model.params[\"scales\"].detach().cpu().numpy()\n",
        "    rotation = model.params[\"quats\"].detach().cpu().numpy()\n",
        "\n",
        "    dtype_full = [(attribute, 'f4') for attribute in construct_list_of_attributes(model)]\n",
        "\n",
        "    elements = np.empty(xyz.shape[0], dtype=dtype_full)\n",
        "    attributes = np.concatenate((xyz, normals, f_dc, f_rest, opacities, scale, rotation), axis=1)\n",
        "    elements[:] = list(map(tuple, attributes))\n",
        "    el = PlyElement.describe(elements, 'vertex')\n",
        "    PlyData([el]).write(path)\n",
        "\n",
        "@torch.no_grad()\n",
        "def load_ply(path: str, scene_scale: float) -> GaussianParamsModel:\n",
        "  plydata = PlyData.read(path)\n",
        "\n",
        "  xyz = np.stack((np.asarray(plydata.elements[0][\"x\"]),\n",
        "                  np.asarray(plydata.elements[0][\"y\"]),\n",
        "                  np.asarray(plydata.elements[0][\"z\"])),  axis=1)\n",
        "  opacities = np.asarray(plydata.elements[0][\"opacity\"])\n",
        "\n",
        "  features_dc = np.zeros((xyz.shape[0], 3, 1))\n",
        "  features_dc[:, 0, 0] = np.asarray(plydata.elements[0][\"f_dc_0\"])\n",
        "  features_dc[:, 1, 0] = np.asarray(plydata.elements[0][\"f_dc_1\"])\n",
        "  features_dc[:, 2, 0] = np.asarray(plydata.elements[0][\"f_dc_2\"])\n",
        "\n",
        "  extra_f_names = [p.name for p in plydata.elements[0].properties if p.name.startswith(\"f_rest_\")]\n",
        "  extra_f_names = sorted(extra_f_names, key = lambda x: int(x.split('_')[-1]))\n",
        "\n",
        "  n_extra_sh = int(len(extra_f_names) / 3)\n",
        "  sh_degree = int((n_extra_sh + 1) ** 0.5) - 1\n",
        "\n",
        "  features_extra = np.zeros((xyz.shape[0], len(extra_f_names)))\n",
        "  for idx, attr_name in enumerate(extra_f_names):\n",
        "      features_extra[:, idx] = np.asarray(plydata.elements[0][attr_name])\n",
        "  # Reshape (P,F*SH_coeffs) to (P, F, SH_coeffs except DC)\n",
        "  features_extra = features_extra.reshape((features_extra.shape[0], 3, n_extra_sh))\n",
        "\n",
        "  scale_names = [p.name for p in plydata.elements[0].properties if p.name.startswith(\"scale_\")]\n",
        "  scale_names = sorted(scale_names, key = lambda x: int(x.split('_')[-1]))\n",
        "  scales = np.zeros((xyz.shape[0], len(scale_names)))\n",
        "  for idx, attr_name in enumerate(scale_names):\n",
        "      scales[:, idx] = np.asarray(plydata.elements[0][attr_name])\n",
        "\n",
        "  rot_names = [p.name for p in plydata.elements[0].properties if p.name.startswith(\"rot\")]\n",
        "  rot_names = sorted(rot_names, key = lambda x: int(x.split('_')[-1]))\n",
        "  rots = np.zeros((xyz.shape[0], len(rot_names)))\n",
        "  for idx, attr_name in enumerate(rot_names):\n",
        "      rots[:, idx] = np.asarray(plydata.elements[0][attr_name])\n",
        "\n",
        "  params = torch.nn.ParameterDict({\n",
        "      \"means\": nn.Parameter(torch.tensor(xyz, dtype=torch.float, device=\"cuda\").requires_grad_(True)),\n",
        "      \"sh0\": nn.Parameter(torch.tensor(features_dc, dtype=torch.float, device=\"cuda\").transpose(1, 2).contiguous().requires_grad_(True)),\n",
        "      \"shN\": nn.Parameter(torch.tensor(features_extra, dtype=torch.float, device=\"cuda\").transpose(1, 2).contiguous().requires_grad_(True)),\n",
        "      \"opacities\": nn.Parameter(torch.tensor(opacities, dtype=torch.float, device=\"cuda\").requires_grad_(True)),\n",
        "      \"scales\": nn.Parameter(torch.tensor(scales, dtype=torch.float, device=\"cuda\").requires_grad_(True)),\n",
        "      \"quats\": nn.Parameter(torch.tensor(rots, dtype=torch.float, device=\"cuda\").requires_grad_(True)),\n",
        "  })\n",
        "\n",
        "  gaussian_model = GaussianModel(\n",
        "    params,\n",
        "    sh_degree=sh_degree,\n",
        "    scene_scale=scene_scale\n",
        "  )\n",
        "\n",
        "  return gaussian_model"
      ],
      "metadata": {
        "id": "GBiI5CWEnBPl"
      },
      "execution_count": 198,
      "outputs": []
    },
    {
      "cell_type": "markdown",
      "source": [
        "### PLY Handling - Tests"
      ],
      "metadata": {
        "id": "GyocF5nzn94e"
      }
    },
    {
      "cell_type": "code",
      "source": [
        "# Test: given an initial gaussian model, when saving it as a ply file, the ply file should exist\n",
        "\n",
        "import os\n",
        "from pathlib import Path\n",
        "\n",
        "temp_file_path = \"./unittests/temporary_unittest_file.ply\"\n",
        "\n",
        "if Path(temp_file_path).exists():\n",
        "  os.unlink(temp_file_path)\n",
        "\n",
        "example_data_set = BlenderSyntheticDataset(data_root=\"../nerf-synthetic/lego\", split=\"train\", max_num_init_points=200, limit=1)\n",
        "gaussian_model = GaussianModel.from_point_cloud(example_data_set.pcd, example_dataset.norm.radius)\n",
        "\n",
        "save_ply(gaussian_model, temp_file_path)\n",
        "\n",
        "assert Path(temp_file_path).exists()\n",
        "\n"
      ],
      "metadata": {
        "id": "Di0BrVXWoBW5",
        "colab": {
          "base_uri": "https://localhost:8080/"
        },
        "outputId": "e62d0d00-3a18-453c-f8d1-6645b7998778"
      },
      "execution_count": 199,
      "outputs": [
        {
          "output_type": "stream",
          "name": "stdout",
          "text": [
            "Subsampling point cloud (200)...\n"
          ]
        }
      ]
    },
    {
      "cell_type": "code",
      "source": [
        "# Test: given a saved gaussian model, when loading it from a file, the resulting model should be valid\n",
        "\n",
        "gaussian_model = load_ply(temp_file_path, scene_scale=0.123)\n",
        "\n",
        "assert gaussian_model.params[\"means\"].shape == (200, 3), gaussian_model.params[\"means\"].shape\n",
        "assert gaussian_model.params[\"quats\"].shape == (200, 4), gaussian_model.params[\"quats\"].shape\n",
        "assert gaussian_model.params[\"scales\"].shape == (200, 3), gaussian_model.params[\"scales\"].shape\n",
        "assert gaussian_model.params[\"sh0\"].shape == (200, 1, 3), gaussian_model.params[\"sh0\"].shape\n",
        "assert gaussian_model.params[\"opacities\"].shape == (200, ), gaussian_model.params[\"opacities\"].shape\n",
        "assert gaussian_model.params[\"shN\"].shape == (200, 15, 3), gaussian_model.params[\"shN\"].shape\n",
        "assert gaussian_model.sh_degree == 3, gaussian_model.sh_degree"
      ],
      "metadata": {
        "id": "bU0Vc_6jpD_r"
      },
      "execution_count": 200,
      "outputs": []
    },
    {
      "cell_type": "markdown",
      "source": [
        "## Pipeline Execution"
      ],
      "metadata": {
        "id": "ekf_K8puTMmE"
      }
    },
    {
      "cell_type": "code",
      "source": [
        "import toml\n",
        "\n",
        "def export_configs(out_dir: str, config: Config, strategy: Strategy):\n",
        "  config_string = toml.dumps(vars(config))\n",
        "  strategy_string = toml.dumps(vars(strategy.strategy))\n",
        "\n",
        "  with open(f\"{out_dir}/config.toml\", \"w\") as f:\n",
        "    f.write(\"# config \\n\")\n",
        "    f.write(config_string)\n",
        "    f.write(\"\\n# strategy \\n\")\n",
        "    f.write(strategy_string)"
      ],
      "metadata": {
        "id": "-igHJoSpBIRp"
      },
      "execution_count": 201,
      "outputs": []
    },
    {
      "cell_type": "code",
      "source": [
        "from typing import Callable\n",
        "\n",
        "class Pipeline:\n",
        "  def __init__(self,\n",
        "               model: GaussianModel,\n",
        "               strategy: Strategy,\n",
        "               train_dataset: BlenderSyntheticDataset,\n",
        "               test_dataset: Optional[BlenderSyntheticDataset],\n",
        "               val_dataset: BlenderSyntheticDataset,\n",
        "               logger: Logger,\n",
        "               config: Config,\n",
        "               out_path: str):\n",
        "    self.model = model\n",
        "    self.train_dataset = train_dataset\n",
        "    self.test_dataset = test_dataset\n",
        "    self.val_dataset = val_dataset\n",
        "    self.config = config\n",
        "    self.optimizers = OptimizerFactory.create_optimizers(self.model)\n",
        "    self.schedulers = SchedulerFactory.create_schedulers(self.optimizers, self.config)\n",
        "    self.strategy = strategy\n",
        "    self.out_path = out_path\n",
        "    self.logger = logger\n",
        "    self.holdout_view_handler = HoldoutViewHandler(\n",
        "        self.val_dataset[4][0],\n",
        "        self.val_dataset.intrinsics,\n",
        "        self.val_dataset.image_size[0],\n",
        "        self.val_dataset.image_size[1],\n",
        "        bg_color=self.val_dataset.bg_color,\n",
        "        out_dir=self.out_path,\n",
        "    )\n",
        "\n",
        "  def execute(self) -> GaussianModel:\n",
        "    final_model = SimpleTrainer(\n",
        "        train_dataset=self.train_dataset,\n",
        "        test_dataset=self.test_dataset,\n",
        "        gaussian_model=self.model,\n",
        "        strategy=self.strategy,\n",
        "        optimizers=self.optimizers,\n",
        "        schedulers=self.schedulers,\n",
        "        holdout_view_handler=self.holdout_view_handler,\n",
        "        logger=self.logger,\n",
        "        config=self.config,\n",
        "    ).train()\n",
        "    save_ply(final_model, f\"{self.out_path}/final_model.ply\")\n",
        "    export_configs(self.out_path, config, self.strategy)\n",
        "    return final_model\n"
      ],
      "metadata": {
        "id": "0-5lXjyejafz"
      },
      "execution_count": 202,
      "outputs": []
    },
    {
      "cell_type": "code",
      "execution_count": 185,
      "metadata": {
        "id": "lHIeL0nmmTVg",
        "colab": {
          "base_uri": "https://localhost:8080/"
        },
        "outputId": "7a3f1759-2a92-459f-fff1-fd3015a627e2"
      },
      "outputs": [
        {
          "output_type": "stream",
          "name": "stdout",
          "text": [
            "Subsampling point cloud (8000)...\n"
          ]
        }
      ],
      "source": [
        "train_dataset = BlenderSyntheticDataset(data_root=\"../nerf-synthetic/lego\", split=\"train\", max_num_init_points=8000)"
      ]
    },
    {
      "cell_type": "code",
      "source": [
        "test_dataset = BlenderSyntheticDataset(data_root=\"../nerf-synthetic/lego\", split=\"test\", max_num_init_points=8000)"
      ],
      "metadata": {
        "colab": {
          "base_uri": "https://localhost:8080/"
        },
        "id": "2-TJsquF5Md_",
        "outputId": "02fa9302-754b-4ef8-dd04-a0b42cec21da"
      },
      "execution_count": 186,
      "outputs": [
        {
          "output_type": "stream",
          "name": "stdout",
          "text": [
            "Subsampling point cloud (8000)...\n"
          ]
        }
      ]
    },
    {
      "cell_type": "code",
      "execution_count": 187,
      "metadata": {
        "id": "C4YFpKb25aWi",
        "colab": {
          "base_uri": "https://localhost:8080/"
        },
        "outputId": "b239ceaa-3a87-43c7-dca3-50ca59336e73"
      },
      "outputs": [
        {
          "output_type": "stream",
          "name": "stdout",
          "text": [
            "Subsampling point cloud (8000)...\n"
          ]
        }
      ],
      "source": [
        "val_dataset = BlenderSyntheticDataset(data_root=\"../nerf-synthetic/lego\", split=\"val\", limit=5, max_num_init_points=8000)"
      ]
    },
    {
      "cell_type": "markdown",
      "source": [
        "### Config Setup"
      ],
      "metadata": {
        "id": "120rS0dNuTqR"
      }
    },
    {
      "cell_type": "code",
      "source": [
        "config = Config()\n",
        "\n",
        "config.init_opa=0.5\n",
        "config.init_scale=0.1\n",
        "config.scene_scale=2.0\n",
        "config.opacity_reg=0.01\n",
        "config.scale_reg=0.01\n",
        "config.max_num_gaussians = 12000\n",
        "config.scene_radius = train_dataset.norm.radius"
      ],
      "metadata": {
        "id": "fC1NOF43uN1E"
      },
      "execution_count": 203,
      "outputs": []
    },
    {
      "cell_type": "markdown",
      "source": [
        "### Strategies"
      ],
      "metadata": {
        "id": "vXzRGPHceVzM"
      }
    },
    {
      "cell_type": "code",
      "source": [
        "strategy = Strategy(config)"
      ],
      "metadata": {
        "id": "zQm9s5u-eS3n"
      },
      "execution_count": 204,
      "outputs": []
    },
    {
      "cell_type": "markdown",
      "source": [
        "### Execute training from scratch"
      ],
      "metadata": {
        "id": "B5od-EZnwtd7"
      }
    },
    {
      "cell_type": "code",
      "source": [
        "run_name = \"MCMC-lego-18\""
      ],
      "metadata": {
        "id": "3GHc6Hr15k6R"
      },
      "execution_count": 205,
      "outputs": []
    },
    {
      "cell_type": "code",
      "source": [
        "logger = Logger(\"gs-on-a-budget\",\n",
        "                run_name,\n",
        "                \"/content/drive/MyDrive/TUWien/MasterThesisNeRF/gsplat/wandb-api-key.txt\",\n",
        "                \"cuda\")"
      ],
      "metadata": {
        "colab": {
          "base_uri": "https://localhost:8080/",
          "height": 156
        },
        "id": "O9xAiKOm5TUA",
        "outputId": "f44acb14-5f05-423f-baf3-937c3fb278bd"
      },
      "execution_count": 206,
      "outputs": [
        {
          "output_type": "stream",
          "name": "stderr",
          "text": [
            "\u001b[34m\u001b[1mwandb\u001b[0m: \u001b[33mWARNING\u001b[0m If you're specifying your api key in code, ensure this code is not shared publicly.\n",
            "\u001b[34m\u001b[1mwandb\u001b[0m: \u001b[33mWARNING\u001b[0m Consider setting the WANDB_API_KEY environment variable, or running `wandb login` from the command line.\n",
            "\u001b[34m\u001b[1mwandb\u001b[0m: Appending key for api.wandb.ai to your netrc file: /root/.netrc\n"
          ]
        },
        {
          "output_type": "display_data",
          "data": {
            "text/plain": [
              "<IPython.core.display.HTML object>"
            ],
            "text/html": [
              "Tracking run with wandb version 0.18.5"
            ]
          },
          "metadata": {}
        },
        {
          "output_type": "display_data",
          "data": {
            "text/plain": [
              "<IPython.core.display.HTML object>"
            ],
            "text/html": [
              "Run data is saved locally in <code>/content/drive/MyDrive/TUWien/MasterThesisNeRF/gsplat/wandb/run-20241105_163256-0r8bxeuv</code>"
            ]
          },
          "metadata": {}
        },
        {
          "output_type": "display_data",
          "data": {
            "text/plain": [
              "<IPython.core.display.HTML object>"
            ],
            "text/html": [
              "Syncing run <strong><a href='https://wandb.ai/wandb-erpenstein/gs-on-a-budget/runs/0r8bxeuv' target=\"_blank\">MCMC-lego-18</a></strong> to <a href='https://wandb.ai/wandb-erpenstein/gs-on-a-budget' target=\"_blank\">Weights & Biases</a> (<a href='https://wandb.me/run' target=\"_blank\">docs</a>)<br/>"
            ]
          },
          "metadata": {}
        },
        {
          "output_type": "display_data",
          "data": {
            "text/plain": [
              "<IPython.core.display.HTML object>"
            ],
            "text/html": [
              " View project at <a href='https://wandb.ai/wandb-erpenstein/gs-on-a-budget' target=\"_blank\">https://wandb.ai/wandb-erpenstein/gs-on-a-budget</a>"
            ]
          },
          "metadata": {}
        },
        {
          "output_type": "display_data",
          "data": {
            "text/plain": [
              "<IPython.core.display.HTML object>"
            ],
            "text/html": [
              " View run at <a href='https://wandb.ai/wandb-erpenstein/gs-on-a-budget/runs/0r8bxeuv' target=\"_blank\">https://wandb.ai/wandb-erpenstein/gs-on-a-budget/runs/0r8bxeuv</a>"
            ]
          },
          "metadata": {}
        }
      ]
    },
    {
      "cell_type": "code",
      "execution_count": 207,
      "metadata": {
        "colab": {
          "base_uri": "https://localhost:8080/"
        },
        "id": "eAu6RK3Q9m-e",
        "outputId": "730a35a6-d144-4ee6-d82c-f5f7dfdbc43b"
      },
      "outputs": [
        {
          "output_type": "stream",
          "name": "stderr",
          "text": [
            "Training: 100%|██████████| 10000/10000 [03:40<00:00, 45.40it/s, Loss=0.0289]\n"
          ]
        },
        {
          "output_type": "stream",
          "name": "stdout",
          "text": [
            "Total(s):\n",
            "Rasterization: 46.158, Backward: 73.020\n",
            "Per step(s):\n",
            "Rasterization: 0.00462, Backward: 0.00730\n"
          ]
        }
      ],
      "source": [
        "# train from scratch\n",
        "initial_model = GaussianModel.from_point_cloud(train_dataset.pcd, scene_scale=train_dataset.norm.radius, sh_degree=config.sh_degree)\n",
        "\n",
        "initial_pipeline = Pipeline(\n",
        "    model=initial_model,\n",
        "    strategy=strategy,\n",
        "    train_dataset=train_dataset,\n",
        "    test_dataset=test_dataset,\n",
        "    val_dataset=val_dataset,\n",
        "    logger=logger,\n",
        "    config=config,\n",
        "    out_path=f\"runs/{run_name}\",\n",
        ")\n",
        "\n",
        "final_model = initial_pipeline.execute()"
      ]
    },
    {
      "cell_type": "code",
      "source": [
        "wandb.finish()\n",
        "logger.finish()"
      ],
      "metadata": {
        "colab": {
          "base_uri": "https://localhost:8080/",
          "height": 376,
          "referenced_widgets": [
            "ec3d56976ad34ddc944f6c49bc2c9639",
            "1ebac56e1d4446fd877026606e51c15f",
            "55dd8de19c0942a0a1d3b5fbe05cf393",
            "e3c22051c0d5490f9ad092579cfab2d7",
            "521d2dda624b45c38734ef04ac4a5fe7",
            "d2cd6f091bec4583a68836cc5509ad09",
            "7a9b41fd20b742e0bd5c4a9ce6a87bb5",
            "759e5c80197641de9bc0e7751e8bd09f"
          ]
        },
        "id": "5cT-oDV-5vSG",
        "outputId": "9f251065-bf62-4413-b6b0-bb581c07543a"
      },
      "execution_count": 208,
      "outputs": [
        {
          "output_type": "display_data",
          "data": {
            "text/plain": [
              "VBox(children=(Label(value='0.014 MB of 0.014 MB uploaded\\r'), FloatProgress(value=1.0, max=1.0)))"
            ],
            "application/vnd.jupyter.widget-view+json": {
              "version_major": 2,
              "version_minor": 0,
              "model_id": "ec3d56976ad34ddc944f6c49bc2c9639"
            }
          },
          "metadata": {}
        },
        {
          "output_type": "display_data",
          "data": {
            "text/plain": [
              "<IPython.core.display.HTML object>"
            ],
            "text/html": [
              "<style>\n",
              "    table.wandb td:nth-child(1) { padding: 0 10px; text-align: left ; width: auto;} td:nth-child(2) {text-align: left ; width: 100%}\n",
              "    .wandb-row { display: flex; flex-direction: row; flex-wrap: wrap; justify-content: flex-start; width: 100% }\n",
              "    .wandb-col { display: flex; flex-direction: column; flex-basis: 100%; flex: 1; padding: 10px; }\n",
              "    </style>\n",
              "<div class=\"wandb-row\"><div class=\"wandb-col\"><h3>Run history:</h3><br/><table class=\"wandb\"><tr><td>cum_created</td><td>▁▁▁▂▂▄▅▅▅▅▆▆▇▇▇█████████████████████████</td></tr><tr><td>cum_deleted</td><td>▁▁▁▁▂▂▂▃▃▃▄▄▄▅▅▇▇▇██████████████████████</td></tr><tr><td>n_gaussians</td><td>▁▁▁▁▂███████████████████████████████████</td></tr><tr><td>test_full/psnr</td><td>▁▅▆████</td></tr><tr><td>test_full/ssim</td><td>▁▅▆████</td></tr><tr><td>train/psnr</td><td>▁▂▄▄▃▅▄▅▆▅▆▅▆▆▆█▆▆▆▆▆▇▆▇▇▇█▇▆▇▇▆▇██▇▇▆▆▇</td></tr><tr><td>train/ssim</td><td>▁▁▄▅▄▅▅▅▇▇▆▆▆▇█▆▇▇▆█▇▇▇▇▆▆▇▇▇▇▇█▇██▇▇▆▇▇</td></tr><tr><td>train_every_5th/psnr</td><td>▁▅▆████</td></tr><tr><td>train_every_5th/ssim</td><td>▁▅▆████</td></tr></table><br/></div><div class=\"wandb-col\"><h3>Run summary:</h3><br/><table class=\"wandb\"><tr><td>cum_created</td><td>19953</td></tr><tr><td>cum_deleted</td><td>15953</td></tr><tr><td>n_gaussians</td><td>12000</td></tr><tr><td>test_full/psnr</td><td>27.40191</td></tr><tr><td>test_full/ssim</td><td>0.90931</td></tr><tr><td>train/psnr</td><td>28.75489</td></tr><tr><td>train/ssim</td><td>0.92168</td></tr><tr><td>train_every_5th/psnr</td><td>28.2695</td></tr><tr><td>train_every_5th/ssim</td><td>0.91887</td></tr></table><br/></div></div>"
            ]
          },
          "metadata": {}
        },
        {
          "output_type": "display_data",
          "data": {
            "text/plain": [
              "<IPython.core.display.HTML object>"
            ],
            "text/html": [
              " View run <strong style=\"color:#cdcd00\">MCMC-lego-18</strong> at: <a href='https://wandb.ai/wandb-erpenstein/gs-on-a-budget/runs/0r8bxeuv' target=\"_blank\">https://wandb.ai/wandb-erpenstein/gs-on-a-budget/runs/0r8bxeuv</a><br/> View project at: <a href='https://wandb.ai/wandb-erpenstein/gs-on-a-budget' target=\"_blank\">https://wandb.ai/wandb-erpenstein/gs-on-a-budget</a><br/>Synced 5 W&B file(s), 0 media file(s), 0 artifact file(s) and 0 other file(s)"
            ]
          },
          "metadata": {}
        },
        {
          "output_type": "display_data",
          "data": {
            "text/plain": [
              "<IPython.core.display.HTML object>"
            ],
            "text/html": [
              "Find logs at: <code>./wandb/run-20241105_163256-0r8bxeuv/logs</code>"
            ]
          },
          "metadata": {}
        }
      ]
    },
    {
      "cell_type": "markdown",
      "source": [
        "### Execute training from checkpoint"
      ],
      "metadata": {
        "id": "-EqQzGDuw00u"
      }
    },
    {
      "cell_type": "code",
      "source": [
        "# start from checkpoint\n",
        "# checkpoint_model = load_ply(\"render_from_scratch/final_model.ply\")\n",
        "#\n",
        "# checkpoint_pipeline = Pipeline(\n",
        "#     model=checkpoint_model,\n",
        "#     train_dataset=train_dataset,\n",
        "#     val_dataset=val_dataset,\n",
        "#     out_path=\"render_from_checkpoint\",\n",
        "# )\n",
        "#\n",
        "# final_model = checkpoint_pipeline.execute()"
      ],
      "metadata": {
        "id": "NO5egd4yesJP"
      },
      "execution_count": null,
      "outputs": []
    },
    {
      "cell_type": "markdown",
      "source": [
        "## Example Model Generation (No Cuda Needed)"
      ],
      "metadata": {
        "id": "krboecT40iMW"
      }
    },
    {
      "cell_type": "code",
      "source": [
        "import torch\n",
        "\n",
        "# assert gaussian_model.params[\"means\"].shape == (10, 3), gaussian_model.params[\"means\"].shape\n",
        "# assert gaussian_model.params[\"quats\"].shape == (10, 4), gaussian_model.params[\"quats\"].shape\n",
        "# assert gaussian_model.params[\"scales\"].shape == (10, 3), gaussian_model.params[\"scales\"].shape\n",
        "# assert gaussian_model.params[\"sh0\"].shape == (10, 1, 3), gaussian_model.params[\"sh0\"].shape\n",
        "# assert gaussian_model.params[\"shN\"].shape == (10, 15, 3), gaussian_model.params[\"shN\"].shape\n",
        "# assert gaussian_model.params[\"opacities\"].shape == (10, ), gaussian_model.params[\"opacities\"].shape\n",
        "\n",
        "class ExampleGaussianModel(GaussianParamsModel):\n",
        "  def __init__(self):\n",
        "    self.num_points = 3\n",
        "    self.params = torch.nn.ParameterDict({\n",
        "        \"means\": torch.tensor([[0.0, 0.0, 0.0], [1.0, 3.0, 2.0], [2.0, 6.0, 1.0]], dtype=torch.float32),\n",
        "        \"scales\": torch.tensor([[0.04, 0.1, 0.04], [0.1, 0.9, 0.2], [0.8, 0.04, 0.1]], dtype=torch.float32),\n",
        "        \"quats\": nn.Parameter(\n",
        "          torch.rand((self.num_points, 4)).to(torch.float32)\n",
        "        ),\n",
        "        \"opacities\": nn.Parameter(torch.ones((3)).to(torch.float32)),\n",
        "        \"sh0\": torch.rand(3, 1, 3).to(torch.float32),\n",
        "        \"shN\": torch.rand(3, 15, 3).to(torch.float32)\n",
        "    })\n",
        "\n",
        "  def get_params(self):\n",
        "    return self.params\n",
        "\n",
        "  def set_params(self, params):\n",
        "    self.params = params\n",
        "    return self"
      ],
      "metadata": {
        "id": "pZI234TRSwU-"
      },
      "execution_count": null,
      "outputs": []
    },
    {
      "cell_type": "code",
      "source": [
        "# save_ply(ExampleGaussianModel(), \"./example_model.ply\")"
      ],
      "metadata": {
        "id": "0Ue0dfir4WA_"
      },
      "execution_count": null,
      "outputs": []
    }
  ],
  "metadata": {
    "colab": {
      "collapsed_sections": [
        "krboecT40iMW"
      ],
      "machine_shape": "hm",
      "provenance": [],
      "gpuType": "L4",
      "toc_visible": true,
      "authorship_tag": "ABX9TyNv16UKvzjp5bCQ88xB/k4U",
      "include_colab_link": true
    },
    "kernelspec": {
      "display_name": "Python 3",
      "name": "python3"
    },
    "language_info": {
      "name": "python"
    },
    "accelerator": "GPU",
    "widgets": {
      "application/vnd.jupyter.widget-state+json": {
        "ec3d56976ad34ddc944f6c49bc2c9639": {
          "model_module": "@jupyter-widgets/controls",
          "model_name": "VBoxModel",
          "model_module_version": "1.5.0",
          "state": {
            "_dom_classes": [],
            "_model_module": "@jupyter-widgets/controls",
            "_model_module_version": "1.5.0",
            "_model_name": "VBoxModel",
            "_view_count": null,
            "_view_module": "@jupyter-widgets/controls",
            "_view_module_version": "1.5.0",
            "_view_name": "VBoxView",
            "box_style": "",
            "children": [
              "IPY_MODEL_1ebac56e1d4446fd877026606e51c15f",
              "IPY_MODEL_55dd8de19c0942a0a1d3b5fbe05cf393"
            ],
            "layout": "IPY_MODEL_e3c22051c0d5490f9ad092579cfab2d7"
          }
        },
        "1ebac56e1d4446fd877026606e51c15f": {
          "model_module": "@jupyter-widgets/controls",
          "model_name": "LabelModel",
          "model_module_version": "1.5.0",
          "state": {
            "_dom_classes": [],
            "_model_module": "@jupyter-widgets/controls",
            "_model_module_version": "1.5.0",
            "_model_name": "LabelModel",
            "_view_count": null,
            "_view_module": "@jupyter-widgets/controls",
            "_view_module_version": "1.5.0",
            "_view_name": "LabelView",
            "description": "",
            "description_tooltip": null,
            "layout": "IPY_MODEL_521d2dda624b45c38734ef04ac4a5fe7",
            "placeholder": "​",
            "style": "IPY_MODEL_d2cd6f091bec4583a68836cc5509ad09",
            "value": "0.014 MB of 0.014 MB uploaded\r"
          }
        },
        "55dd8de19c0942a0a1d3b5fbe05cf393": {
          "model_module": "@jupyter-widgets/controls",
          "model_name": "FloatProgressModel",
          "model_module_version": "1.5.0",
          "state": {
            "_dom_classes": [],
            "_model_module": "@jupyter-widgets/controls",
            "_model_module_version": "1.5.0",
            "_model_name": "FloatProgressModel",
            "_view_count": null,
            "_view_module": "@jupyter-widgets/controls",
            "_view_module_version": "1.5.0",
            "_view_name": "ProgressView",
            "bar_style": "",
            "description": "",
            "description_tooltip": null,
            "layout": "IPY_MODEL_7a9b41fd20b742e0bd5c4a9ce6a87bb5",
            "max": 1,
            "min": 0,
            "orientation": "horizontal",
            "style": "IPY_MODEL_759e5c80197641de9bc0e7751e8bd09f",
            "value": 1
          }
        },
        "e3c22051c0d5490f9ad092579cfab2d7": {
          "model_module": "@jupyter-widgets/base",
          "model_name": "LayoutModel",
          "model_module_version": "1.2.0",
          "state": {
            "_model_module": "@jupyter-widgets/base",
            "_model_module_version": "1.2.0",
            "_model_name": "LayoutModel",
            "_view_count": null,
            "_view_module": "@jupyter-widgets/base",
            "_view_module_version": "1.2.0",
            "_view_name": "LayoutView",
            "align_content": null,
            "align_items": null,
            "align_self": null,
            "border": null,
            "bottom": null,
            "display": null,
            "flex": null,
            "flex_flow": null,
            "grid_area": null,
            "grid_auto_columns": null,
            "grid_auto_flow": null,
            "grid_auto_rows": null,
            "grid_column": null,
            "grid_gap": null,
            "grid_row": null,
            "grid_template_areas": null,
            "grid_template_columns": null,
            "grid_template_rows": null,
            "height": null,
            "justify_content": null,
            "justify_items": null,
            "left": null,
            "margin": null,
            "max_height": null,
            "max_width": null,
            "min_height": null,
            "min_width": null,
            "object_fit": null,
            "object_position": null,
            "order": null,
            "overflow": null,
            "overflow_x": null,
            "overflow_y": null,
            "padding": null,
            "right": null,
            "top": null,
            "visibility": null,
            "width": null
          }
        },
        "521d2dda624b45c38734ef04ac4a5fe7": {
          "model_module": "@jupyter-widgets/base",
          "model_name": "LayoutModel",
          "model_module_version": "1.2.0",
          "state": {
            "_model_module": "@jupyter-widgets/base",
            "_model_module_version": "1.2.0",
            "_model_name": "LayoutModel",
            "_view_count": null,
            "_view_module": "@jupyter-widgets/base",
            "_view_module_version": "1.2.0",
            "_view_name": "LayoutView",
            "align_content": null,
            "align_items": null,
            "align_self": null,
            "border": null,
            "bottom": null,
            "display": null,
            "flex": null,
            "flex_flow": null,
            "grid_area": null,
            "grid_auto_columns": null,
            "grid_auto_flow": null,
            "grid_auto_rows": null,
            "grid_column": null,
            "grid_gap": null,
            "grid_row": null,
            "grid_template_areas": null,
            "grid_template_columns": null,
            "grid_template_rows": null,
            "height": null,
            "justify_content": null,
            "justify_items": null,
            "left": null,
            "margin": null,
            "max_height": null,
            "max_width": null,
            "min_height": null,
            "min_width": null,
            "object_fit": null,
            "object_position": null,
            "order": null,
            "overflow": null,
            "overflow_x": null,
            "overflow_y": null,
            "padding": null,
            "right": null,
            "top": null,
            "visibility": null,
            "width": null
          }
        },
        "d2cd6f091bec4583a68836cc5509ad09": {
          "model_module": "@jupyter-widgets/controls",
          "model_name": "DescriptionStyleModel",
          "model_module_version": "1.5.0",
          "state": {
            "_model_module": "@jupyter-widgets/controls",
            "_model_module_version": "1.5.0",
            "_model_name": "DescriptionStyleModel",
            "_view_count": null,
            "_view_module": "@jupyter-widgets/base",
            "_view_module_version": "1.2.0",
            "_view_name": "StyleView",
            "description_width": ""
          }
        },
        "7a9b41fd20b742e0bd5c4a9ce6a87bb5": {
          "model_module": "@jupyter-widgets/base",
          "model_name": "LayoutModel",
          "model_module_version": "1.2.0",
          "state": {
            "_model_module": "@jupyter-widgets/base",
            "_model_module_version": "1.2.0",
            "_model_name": "LayoutModel",
            "_view_count": null,
            "_view_module": "@jupyter-widgets/base",
            "_view_module_version": "1.2.0",
            "_view_name": "LayoutView",
            "align_content": null,
            "align_items": null,
            "align_self": null,
            "border": null,
            "bottom": null,
            "display": null,
            "flex": null,
            "flex_flow": null,
            "grid_area": null,
            "grid_auto_columns": null,
            "grid_auto_flow": null,
            "grid_auto_rows": null,
            "grid_column": null,
            "grid_gap": null,
            "grid_row": null,
            "grid_template_areas": null,
            "grid_template_columns": null,
            "grid_template_rows": null,
            "height": null,
            "justify_content": null,
            "justify_items": null,
            "left": null,
            "margin": null,
            "max_height": null,
            "max_width": null,
            "min_height": null,
            "min_width": null,
            "object_fit": null,
            "object_position": null,
            "order": null,
            "overflow": null,
            "overflow_x": null,
            "overflow_y": null,
            "padding": null,
            "right": null,
            "top": null,
            "visibility": null,
            "width": null
          }
        },
        "759e5c80197641de9bc0e7751e8bd09f": {
          "model_module": "@jupyter-widgets/controls",
          "model_name": "ProgressStyleModel",
          "model_module_version": "1.5.0",
          "state": {
            "_model_module": "@jupyter-widgets/controls",
            "_model_module_version": "1.5.0",
            "_model_name": "ProgressStyleModel",
            "_view_count": null,
            "_view_module": "@jupyter-widgets/base",
            "_view_module_version": "1.2.0",
            "_view_name": "StyleView",
            "bar_color": null,
            "description_width": ""
          }
        }
      }
    }
  },
  "nbformat": 4,
  "nbformat_minor": 0
}